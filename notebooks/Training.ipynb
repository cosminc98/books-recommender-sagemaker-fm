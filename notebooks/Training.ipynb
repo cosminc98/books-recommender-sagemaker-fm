{
 "cells": [
  {
   "cell_type": "markdown",
   "metadata": {},
   "source": [
    "# Book Recommendation System with Explicit Feedback\n",
    "\n",
    "1. [Introduction](#Introduction)\n",
    "    * [Dataset](#Dataset)\n",
    "    * [Factorization Machines](#Factorization-Machines)\n",
    "    * [Anonymous Features Generation](#Anonymous-Features-Generation)\n",
    "    * [Definitions](#Definitions)\n",
    "2. [Setup](#Setup)\n",
    "    * [Notebook Setup](#Notebook-Setup)\n",
    "    * [Imports](#Imports)\n",
    "    * [SageMaker Setup](#SageMaker-Setup)\n",
    "    * [File Paths](#File-Paths)\n",
    "3. [Data Preprocessing](#Data-Preprocessing)\n",
    "    * [Book Deduplication](#Book-Deduplication)\n",
    "    * [User Ratings Filtering](#User-Ratings-Filtering)\n",
    "    * [Anonymous Features Generation](#Code-Anonymous-Features-Generation)\n",
    "    * [Categorical Data Encoding](#Categorical-Data-Encoding)\n",
    "    * [Upload Training Data](#Upload-Training-Data)\n",
    "4. [Model Training](#Model-Training)\n",
    "    * [Training Parameters](#Training-Parameters)\n",
    "    * [Launch the Training Job](#Launch-the-Training-Job)\n",
    "    * [Train Job](#Train-Job)\n",
    "        * [Hyperparameters](#Hyperparameters)\n",
    "        * [Metrics](#Metrics)\n",
    "5. [Model Evaluation](#Model-Evaluation)\n",
    "    * [Batch Inference](#Batch-Inference)\n",
    "    * [Baselines](#Baselines)\n",
    "    * [Mean Absolute Error](#MAE)\n",
    "    * [Average Sorting Distance](#ASD)\n",
    "    * [Pearson Correlation Coefficient](#Pearson-Correlation-Coefficient)\n",
    "    * [Top N Relevance](#Top-N-Relevance)"
   ]
  },
  {
   "cell_type": "markdown",
   "metadata": {},
   "source": [
    "<a id=\"Introduction\"></a>\n",
    "## Introduction\n",
    "---\n",
    "\n",
    "[This](https://github.com/edrans/-aws-sagemaker-builtin-notebooks/blob/main/factorization-machine/Explicit-feedback/Recommendation-Machine-Explicit.ipynb) notebook was used as a starting point for training a factorization machine in AWS SageMaker. The main differences between that one and this notebook are in data preprocessing, having eliminated the user features to allow for anonymous inference without retraining, and in changing the factorization machine from binary classification to regression. The reason for changing to regression is trying to obtain as many \"10/10\" rated books (true labels) in the top 25 / top 100 books sorted by the factorization machine predicted ratings. If using binary classification, either we'll have too few books for the positive class by choosing only the rating \"10\" as relevant, or we'll be unable to differentiate between 10's, 9's, 8's and 7's if we choose relevance to mean a rating of at least 7.\n",
    "\n",
    "<a id=\"Dataset\"></a>\n",
    "### Dataset\n",
    "\n",
    "The dataset we use is from [here](https://www.kaggle.com/datasets/arashnic/book-recommendation-dataset/). However, I preprocessed it using SageMaker Data Wrangler. The main preprocessing step was creating a train/dev/test split for the user ratings in such a way as to not have the same user in multiple subsets. To download the preprocessed data click [here](https://cosminc98-public-datasets.s3.eu-central-1.amazonaws.com/books-recommender/all.zip).\n",
    "\n",
    "<a id=\"Factorization-Machines\"></a>\n",
    "### Factorization Machines (FM)\n",
    "\n",
    "The method we will use is a Factorization Machines regressor. FM is a general-purpose supervised learning algorithm that you can use for classification and regression tasks. It excels for extremely sparse datasets such as the one that we're dealing with since the average book has only 3 ratings and 70% of users have rated 3 books or fewer. The Amazon SageMaker FM algorithm provides a robust and highly scalable implementation of this algorithm.\n",
    "\n",
    "FM is formulated as a linear model, with interactions between features as additional parameters (features). The basics of how it works with categorical data are the following (you can use numerical data as well but right now we do not): \n",
    "1. You one-hot encode variables that can only be from one class and multi-hot encode variables that can belong to multiple classes. The book that we want to predict the rating for is provided as input and it is one-hot encoded. Having around 200k books, this means that our one-hot encoded vector is 200k elements long. This is not a problem since we work with sparse matrices and the FM algorithm was built for this. Next, we provide a context variable, which contains all (or some of the) books that the user read and liked. This context variable belongs to multiple classes (multiple books) so we multi-hot encode it. The multi-hot encoded vector is divided by the number of classes for reasons that will be explained later. Here is what the features look like:\n",
    "\n",
    "<div style=\"width:75%;margin-left:auto;margin-right:auto;\">\n",
    "    <figure>\n",
    "        <img src=\"https://cosminc98-public-models.s3.eu-central-1.amazonaws.com/books-recommender/factorization-machine/anonymous_features.svg\">\n",
    "        <figcaption style=\"text-align:left\"><b>Figure 1 - Anonymous Features</b>; they are anonymous because we do not one-hot encode the user ID and instead we rely on the interactions between the book that we want to rate, called target books (TB), and the books that the anonymous user said they read and liked, called context books (CB), which are provided via explicit feedback, to accurately predict if an anonymous user will like a book.</figcaption>\n",
    "    </figure>\n",
    "</div>\n",
    "\n",
    "2. Each column in the feature matrix is called a feature. To each feature we assign learnable parameters: a scalar and a vector of \"factors\". The number of factors is usually small since the data is very sparse and the model can quickly overfit it. In our case, we use either 4 or 8 factors. There is also a global scalar that is shared between all features.\n",
    "\n",
    "3. For a given input sample $\\textbf{x}_i$ (made of the features described earlier), the predicted rating $\\hat{y}(\\textbf{x}_i)$ is computed as follows:\n",
    "$$\\hat{y}(\\textbf{x}_i) = w_0 + \\sum_{j=1}^{n}{w_jx_{ij}} + \\sum_{j=1}^{n}{\\sum_{k=j+1}^{n}{<\\textbf{v}_j, \\textbf{v}_k>x_{ij}x_{ik}}}$$\n",
    "    * $n$ is the number of features in the input sample (length of the one-hot and multi-hot encoded vectors combined).\n",
    "    * $w_0$ is the global scalar learnable parameter; this may be used by the model as a base rating (could be the average ratings of the training set, although not necessarily) from which we go up or down depending on what particular book we are evaluating.\n",
    "    * $w_1, w_2, w_3, ... w_n$ are scalars specific to each feature; this may describe how much larger the average rating of a given book is than the average rating of all books in the dataset.\n",
    "    * $\\textbf{v}_j$ is the vector of factors in the latent space of feature embeddings. Each factor vector represents a book in our case. Basically, if two books are similar then they will have factor vectors that are close in the latent space.\n",
    "    * $<\\textbf{v}_j, \\textbf{v}_k>$ is the dot product of two vectors $\\textbf{v}_j$ and $\\textbf{v}_k$. The dot product is used here to evaluate the similarity between the factor vectors. If the dot product is small or 0 then these two books have nothing in common and will not affect the result. If the dot product is negative then these books are opposites and the predicted rating will decrease. If the dot product is positive then these books are similar and the predicted rating will increase.\n",
    "\n",
    "The reason we divide the context features from Figure 1 by the number of non-zero elements is that we don't want the interaction between the target book and context books to become insignificant when increasing the number of context books. This would happen\n",
    "because the factorization machine also computes the dot products of any combination of two context books.\n",
    "\n",
    "<a id=\"Anonymous-Features-Generation\"></a>\n",
    "### Anonymous Features Generation\n",
    "\n",
    "In our application we will have anonymous users provide a few books that they liked and we need to give them book recommendations based on those. Because of this, we will not use users as a feature. As we can see in Figure 1, we need tuples of 3 elements in order to perform training:\n",
    "1. Target Book ISBN\n",
    "2. Target Book Rating (needed for training but not for inference)\n",
    "3. List of Context Books ISBNs\n",
    "\n",
    "The problem is that our dataset provides us with tuples of the following 3 elements:\n",
    "1. Target Book ISBN\n",
    "2. Target Book Rating\n",
    "3. User ID\n",
    "\n",
    "In order to transform the latter into the former, we need to group all the ratings of each user and choose combinations of \"liked books\" (books with ratings >= 7, for example) and use them as context for another book that wasn't chosen this iteration to be in the context list.\n",
    "\n",
    "<a id=\"Definitions\"></a>\n",
    "### Definitions\n",
    "| Term | Definition |\n",
    "|:--- |:--- | \n",
    "| Context Book | A book that is provided by the user, with the assumption that they liked it (explicit feedback), that will be used to rank recommendations using the factorization machine model. The context books are only a subset of the book dataset since some books did not have enough data during training. **Users may only choose liked books from this subset.** |\n",
    "| Target Book | A book that can be scored by the factorization machine model. The target books are only a subset of the book dataset since some books did not have enough data during training. **Users will receive recommendations only from this subset.** |\n",
    "| ISBN | International Standard Book Numbers (or ISBN) is a unique identified for each book. In particular, it is an identified for each specific version/revision of a given book, which is why we need to perform ISBN deduplication to map old versions to the latest one. We do this to treat all versions of the same book in as one single book. |"
   ]
  },
  {
   "cell_type": "markdown",
   "metadata": {},
   "source": [
    "<a id=\"Setup\"></a>\n",
    "## Setup\n",
    "---"
   ]
  },
  {
   "cell_type": "markdown",
   "metadata": {
    "tags": []
   },
   "source": [
    "<a id='Notebook-Setup'></a>\n",
    "### Notebook Setup\n",
    "This notebook was tested in Amazon SageMaker Studio on a ml.m5.large instance with Python 3 (Data Science) kernel."
   ]
  },
  {
   "cell_type": "markdown",
   "metadata": {
    "tags": []
   },
   "source": [
    "<a id='Imports'></a>\n",
    "### Imports"
   ]
  },
  {
   "cell_type": "code",
   "execution_count": 2,
   "metadata": {
    "tags": []
   },
   "outputs": [
    {
     "name": "stdout",
     "output_type": "stream",
     "text": [
      "sagemaker.config INFO - Not applying SDK defaults from location: /etc/xdg/sagemaker/config.yaml\n",
      "sagemaker.config INFO - Not applying SDK defaults from location: /root/.config/sagemaker/config.yaml\n"
     ]
    }
   ],
   "source": [
    "# built-ins\n",
    "import io\n",
    "import os\n",
    "import re\n",
    "import json\n",
    "import random\n",
    "import math\n",
    "import itertools\n",
    "import pickle\n",
    "import uuid\n",
    "from heapq import heappush, heappop\n",
    "from functools import partial\n",
    "from typing import Dict, List, Tuple, Iterable, Generator, Optional\n",
    "\n",
    "# preprocessing\n",
    "import pandas as pd\n",
    "import numpy as np\n",
    "from sklearn.preprocessing import OneHotEncoder, MultiLabelBinarizer\n",
    "from scipy.sparse import diags, hstack\n",
    "\n",
    "# evaluation\n",
    "from sklearn.metrics import mean_absolute_error\n",
    "\n",
    "# sagemaker imports\n",
    "import boto3\n",
    "import sagemaker\n",
    "from sagemaker import get_execution_role\n",
    "import sagemaker.amazon.common as smac\n",
    "from sagemaker.deserializers import JSONDeserializer\n",
    "\n",
    "# visualization\n",
    "import seaborn as sns\n",
    "import matplotlib.pyplot as plt"
   ]
  },
  {
   "cell_type": "markdown",
   "metadata": {
    "tags": []
   },
   "source": [
    "<a id='SageMaker-Setup'></a>\n",
    "### SageMaker Setup\n",
    "We need to specify:\n",
    "+ The IAM role arn used to give training and hosting access to your data.\n",
    "+ The S3 buckets and prefixes that we want to use to upload training and test data for the SageMaker Factorization Machine algorithm to use as input, and the s3 location where to save the model parameters after training is finished.\n"
   ]
  },
  {
   "cell_type": "code",
   "execution_count": 3,
   "metadata": {
    "tags": []
   },
   "outputs": [
    {
     "name": "stdout",
     "output_type": "stream",
     "text": [
      "sagemaker.config INFO - Not applying SDK defaults from location: /etc/xdg/sagemaker/config.yaml\n",
      "sagemaker.config INFO - Not applying SDK defaults from location: /root/.config/sagemaker/config.yaml\n",
      "sagemaker.config INFO - Not applying SDK defaults from location: /etc/xdg/sagemaker/config.yaml\n",
      "sagemaker.config INFO - Not applying SDK defaults from location: /root/.config/sagemaker/config.yaml\n",
      "role: arn:aws:iam::663187321862:role/service-role/AmazonSageMaker-ExecutionRole-20231121T160023 bucket: sagemaker-eu-central-1-663187321862\n"
     ]
    }
   ],
   "source": [
    "role = get_execution_role()\n",
    "\n",
    "sess = sagemaker.Session()\n",
    "bucket = sess.default_bucket()\n",
    "prefix = \"books-recommender/anonymous-regressor\"\n",
    "print(f\"role: {role} bucket: {bucket}\")\n",
    "\n",
    "train_key = 'train.protobuf'\n",
    "train_prefix = '{}/{}'.format(prefix, 'train')\n",
    "s3_train = 's3://{}/{}/train/'.format(bucket,prefix)\n",
    "\n",
    "test_key = 'test.protobuf'\n",
    "test_prefix = '{}/{}'.format(prefix, 'test')\n",
    "\n",
    "output_prefix = 's3://{}/{}/output'.format(bucket, prefix)"
   ]
  },
  {
   "cell_type": "markdown",
   "metadata": {},
   "source": [
    "<a id=\"File-Paths\"></a>\n",
    "### File Paths"
   ]
  },
  {
   "cell_type": "code",
   "execution_count": 4,
   "metadata": {
    "tags": []
   },
   "outputs": [],
   "source": [
    "data_dir = \"../../../data\"\n",
    "books_fpath = os.path.join(data_dir, \"books\", \"books.csv\")\n",
    "ratings_train_fpath = os.path.join(data_dir, \"books\", \"ratings-train.csv\")\n",
    "ratings_val_fpath = os.path.join(data_dir, \"books\", \"ratings-val.csv\")"
   ]
  },
  {
   "cell_type": "markdown",
   "metadata": {},
   "source": [
    "<a id='Data-Preprocessing'></a>\n",
    "\n",
    "## Data Preprocessing\n",
    "---"
   ]
  },
  {
   "cell_type": "markdown",
   "metadata": {},
   "source": [
    "<a id=\"Preprocessing-Book-Deduplication\"></a>\n",
    "### Book Deduplication\n",
    "There are multiple versions of the same book (each having a different ISBN). Because of this, the average ISBN has a lower number of ratings. If we consolidate all of the ratings of related ISBNs (different versions of the same book) into the latest version ISBN then we would improve model performance. In this section we produce a map that takes old ISBN and converts them to the latest one.\n",
    "\n",
    "TODOs:\n",
    "- [ ] Implement a smarter deduplication algorithm, one that translates the titles of all books to english, that allows small differences in the author name and book title, etc."
   ]
  },
  {
   "cell_type": "code",
   "execution_count": 5,
   "metadata": {
    "tags": []
   },
   "outputs": [
    {
     "data": {
      "text/html": [
       "<div>\n",
       "<style scoped>\n",
       "    .dataframe tbody tr th:only-of-type {\n",
       "        vertical-align: middle;\n",
       "    }\n",
       "\n",
       "    .dataframe tbody tr th {\n",
       "        vertical-align: top;\n",
       "    }\n",
       "\n",
       "    .dataframe thead th {\n",
       "        text-align: right;\n",
       "    }\n",
       "</style>\n",
       "<table border=\"1\" class=\"dataframe\">\n",
       "  <thead>\n",
       "    <tr style=\"text-align: right;\">\n",
       "      <th></th>\n",
       "      <th>ISBN</th>\n",
       "      <th>BookTitle</th>\n",
       "      <th>BookAuthor</th>\n",
       "      <th>YearOfPublication</th>\n",
       "      <th>Publisher</th>\n",
       "    </tr>\n",
       "  </thead>\n",
       "  <tbody>\n",
       "    <tr>\n",
       "      <th>0</th>\n",
       "      <td>1565920317</td>\n",
       "      <td>!%@ (A Nutshell handbook)</td>\n",
       "      <td>Donnalyn Frey</td>\n",
       "      <td>1993</td>\n",
       "      <td>O'Reilly</td>\n",
       "    </tr>\n",
       "    <tr>\n",
       "      <th>1</th>\n",
       "      <td>1565920465</td>\n",
       "      <td>!%@ (A Nutshell handbook)</td>\n",
       "      <td>Donnalyn Frey</td>\n",
       "      <td>1994</td>\n",
       "      <td>O'Reilly</td>\n",
       "    </tr>\n",
       "    <tr>\n",
       "      <th>2</th>\n",
       "      <td>0133989429</td>\n",
       "      <td>!Arriba! Comunicacion y cultura</td>\n",
       "      <td>Eduardo Zayas-Bazan</td>\n",
       "      <td>1996</td>\n",
       "      <td>Prentice Hall</td>\n",
       "    </tr>\n",
       "    <tr>\n",
       "      <th>3</th>\n",
       "      <td>013327974X</td>\n",
       "      <td>!Trato hecho!: Spanish for Real Life, Combined...</td>\n",
       "      <td>John T. McMinn</td>\n",
       "      <td>1995</td>\n",
       "      <td>Prentice Hall</td>\n",
       "    </tr>\n",
       "    <tr>\n",
       "      <th>4</th>\n",
       "      <td>0452279186</td>\n",
       "      <td>!Yo!</td>\n",
       "      <td>Julia Alvarez</td>\n",
       "      <td>1997</td>\n",
       "      <td>Plume Books</td>\n",
       "    </tr>\n",
       "  </tbody>\n",
       "</table>\n",
       "</div>"
      ],
      "text/plain": [
       "         ISBN                                          BookTitle  \\\n",
       "0  1565920317                          !%@ (A Nutshell handbook)   \n",
       "1  1565920465                          !%@ (A Nutshell handbook)   \n",
       "2  0133989429                    !Arriba! Comunicacion y cultura   \n",
       "3  013327974X  !Trato hecho!: Spanish for Real Life, Combined...   \n",
       "4  0452279186                                               !Yo!   \n",
       "\n",
       "            BookAuthor  YearOfPublication      Publisher  \n",
       "0        Donnalyn Frey               1993       O'Reilly  \n",
       "1        Donnalyn Frey               1994       O'Reilly  \n",
       "2  Eduardo Zayas-Bazan               1996  Prentice Hall  \n",
       "3       John T. McMinn               1995  Prentice Hall  \n",
       "4        Julia Alvarez               1997    Plume Books  "
      ]
     },
     "execution_count": 5,
     "metadata": {},
     "output_type": "execute_result"
    }
   ],
   "source": [
    "books_df = pd.read_csv(books_fpath, dtype={\n",
    "    \"ISBN\": str, \n",
    "    \"BookTitle\": str, \n",
    "    \"BookAuthor\": str, \n",
    "    \"YearOfPublication\": int, \n",
    "    \"Publisher\": str, \n",
    "    \"ImageURLSmall\": str, \n",
    "    \"ImageURLMedium\": str, \n",
    "    \"ImageURLLarge\": str\n",
    "})\n",
    "books_df.head().iloc[: , :5]"
   ]
  },
  {
   "cell_type": "code",
   "execution_count": 6,
   "metadata": {
    "tags": []
   },
   "outputs": [
    {
     "data": {
      "text/plain": [
       "0                       anutshellhandbook|donnalynfrey\n",
       "1                       anutshellhandbook|donnalynfrey\n",
       "2         arribacomunicacionycultura|eduardozayasbazan\n",
       "3    tratohechospanishforreallifecombinededition|jo...\n",
       "4                                      yo|juliaalvarez\n",
       "Name: TitleAndAuthor, dtype: object"
      ]
     },
     "execution_count": 6,
     "metadata": {},
     "output_type": "execute_result"
    }
   ],
   "source": [
    "# add a new column that takes the title and author and combines them (to identify duplicate titles of the same author)\n",
    "def simplify_text(text: str) -> str:\n",
    "    return re.sub('\\W+','', text).lower().strip()\n",
    "books_df[\"BookTitleSimple\"] = books_df[\"BookTitle\"].apply(simplify_text)\n",
    "books_df[\"BookAuthorSimple\"] = books_df[\"BookAuthor\"].apply(simplify_text)\n",
    "books_df[\"TitleAndAuthor\"] = books_df[[\"BookTitleSimple\", \"BookAuthorSimple\"]].apply(lambda x: \"|\".join(x), axis=1)\n",
    "books_df[\"TitleAndAuthor\"].head()"
   ]
  },
  {
   "cell_type": "code",
   "execution_count": 7,
   "metadata": {
    "tags": []
   },
   "outputs": [
    {
     "name": "stdout",
     "output_type": "stream",
     "text": [
      "Books by number of duplicates:\n"
     ]
    },
    {
     "data": {
      "text/plain": [
       "count    239338.000000\n",
       "mean          1.102934\n",
       "std           0.421108\n",
       "min           1.000000\n",
       "50%           1.000000\n",
       "90%           1.000000\n",
       "92%           1.000000\n",
       "93%           2.000000\n",
       "98.5%         2.000000\n",
       "99.5%         3.000000\n",
       "99.9%         5.000000\n",
       "max          21.000000\n",
       "Name: TitleAndAuthor, dtype: float64"
      ]
     },
     "execution_count": 7,
     "metadata": {},
     "output_type": "execute_result"
    }
   ],
   "source": [
    "# now we can see that about 22k books (about 8.3% of the total number of ISBNs) \n",
    "# are truly duplicated (there may be more, if the book title or author name is written differently)\n",
    "# 25k = 264k (initial ISBNs) - 239k (after deduplication)\n",
    "print(\"Books by number of duplicates:\")\n",
    "books_df.TitleAndAuthor.value_counts().describe(percentiles=[0.9, 0.92, 0.93, 0.985, 0.995, 0.999])"
   ]
  },
  {
   "cell_type": "code",
   "execution_count": 8,
   "metadata": {
    "tags": []
   },
   "outputs": [
    {
     "name": "stdout",
     "output_type": "stream",
     "text": [
      "The number of duplicates is 24636\n",
      "CPU times: user 10.7 s, sys: 41.1 ms, total: 10.8 s\n",
      "Wall time: 10.8 s\n"
     ]
    }
   ],
   "source": [
    "%%time\n",
    "# create a map from duplicate ISBNs to the latest ISBN version of that book\n",
    "same_book_isbn_map: Dict[str, str] = {}\n",
    "\n",
    "title_to_isbn: Dict[str, Tuple[str, int, List[str]]] = {}\n",
    "for _, row in books_df.iterrows():\n",
    "    title_and_author = row[\"TitleAndAuthor\"]\n",
    "    if title_and_author in title_to_isbn:\n",
    "        curr_isbn, curr_pub_year, other_isbns = title_to_isbn[title_and_author]\n",
    "        # if the same book title and author is found then the book was \n",
    "        # published in two separate editions; we take the edition that was \n",
    "        # published last, or if the publication year is the same then the one\n",
    "        # with the largest ISBN (they will have different ISBNs because they\n",
    "        # are registered as different books)\n",
    "        if curr_pub_year < row[\"YearOfPublication\"] or (curr_pub_year == row[\"YearOfPublication\"] and curr_isbn < row[\"ISBN\"]):\n",
    "            # this duplicate was published later than the previous one\n",
    "            other_isbns.append(curr_isbn)\n",
    "            title_to_isbn[title_and_author] = (row[\"ISBN\"], row[\"YearOfPublication\"], other_isbns)\n",
    "        else:\n",
    "            # this duplicate is older than the one we currently have stored\n",
    "            other_isbns.append(row[\"ISBN\"])\n",
    "    else:\n",
    "        title_to_isbn[title_and_author] = (row[\"ISBN\"], row[\"YearOfPublication\"], [])\n",
    "        \n",
    "for _, (isbn, _, other_isbns) in title_to_isbn.items():\n",
    "    if len(other_isbns) > 0:\n",
    "        for other_isbn in other_isbns:\n",
    "            same_book_isbn_map[other_isbn] = isbn\n",
    "            \n",
    "# we have a map from every duplicate ISBN to the latest published version of \n",
    "# that book (latest ISBN)\n",
    "print(f\"The number of duplicates is {len(same_book_isbn_map)}\")\n",
    "with open(\"same_book_isbn_map.json\", \"w\") as f:\n",
    "    f.write(json.dumps(same_book_isbn_map))"
   ]
  },
  {
   "cell_type": "code",
   "execution_count": 9,
   "metadata": {
    "tags": []
   },
   "outputs": [],
   "source": [
    "# get a list of all correct ISBNs based on the format described here:\n",
    "# https://en.wikipedia.org/wiki/ISBN for the ISBN-10\n",
    "def check_isbn_format(isbn: str) -> bool:\n",
    "    if len(isbn) != 10:\n",
    "        return False\n",
    "    if re.match(r\"[0-9]{9}[0-9X]\", isbn) is None:\n",
    "        return False  \n",
    "    return True\n",
    "good_isbns = set(filter(check_isbn_format, list(books_df.ISBN.unique())))\n",
    "\n",
    "with open(\"valid_isbn.json\", \"w\") as f:\n",
    "    f.write(json.dumps(list(good_isbns)))"
   ]
  },
  {
   "cell_type": "markdown",
   "metadata": {},
   "source": [
    "<a id=\"Preprocessing-Book-Deduplication\"></a>\n",
    "### User Ratings Filtering"
   ]
  },
  {
   "cell_type": "code",
   "execution_count": 10,
   "metadata": {
    "tags": []
   },
   "outputs": [
    {
     "data": {
      "text/html": [
       "<div>\n",
       "<style scoped>\n",
       "    .dataframe tbody tr th:only-of-type {\n",
       "        vertical-align: middle;\n",
       "    }\n",
       "\n",
       "    .dataframe tbody tr th {\n",
       "        vertical-align: top;\n",
       "    }\n",
       "\n",
       "    .dataframe thead th {\n",
       "        text-align: right;\n",
       "    }\n",
       "</style>\n",
       "<table border=\"1\" class=\"dataframe\">\n",
       "  <thead>\n",
       "    <tr style=\"text-align: right;\">\n",
       "      <th></th>\n",
       "      <th>UserID</th>\n",
       "      <th>ISBN</th>\n",
       "      <th>BookRating</th>\n",
       "    </tr>\n",
       "  </thead>\n",
       "  <tbody>\n",
       "    <tr>\n",
       "      <th>0</th>\n",
       "      <td>25409</td>\n",
       "      <td>081296666X</td>\n",
       "      <td>10</td>\n",
       "    </tr>\n",
       "    <tr>\n",
       "      <th>1</th>\n",
       "      <td>25533</td>\n",
       "      <td>0440910846</td>\n",
       "      <td>0</td>\n",
       "    </tr>\n",
       "    <tr>\n",
       "      <th>2</th>\n",
       "      <td>26182</td>\n",
       "      <td>1570625190</td>\n",
       "      <td>0</td>\n",
       "    </tr>\n",
       "    <tr>\n",
       "      <th>3</th>\n",
       "      <td>26624</td>\n",
       "      <td>0698119517</td>\n",
       "      <td>0</td>\n",
       "    </tr>\n",
       "    <tr>\n",
       "      <th>4</th>\n",
       "      <td>26731</td>\n",
       "      <td>0515087947</td>\n",
       "      <td>0</td>\n",
       "    </tr>\n",
       "  </tbody>\n",
       "</table>\n",
       "</div>"
      ],
      "text/plain": [
       "  UserID        ISBN  BookRating\n",
       "0  25409  081296666X          10\n",
       "1  25533  0440910846           0\n",
       "2  26182  1570625190           0\n",
       "3  26624  0698119517           0\n",
       "4  26731  0515087947           0"
      ]
     },
     "execution_count": 10,
     "metadata": {},
     "output_type": "execute_result"
    }
   ],
   "source": [
    "def map_if_duplicate(isbn: str, same_book_isbn_map: Dict[str, str]) -> str:\n",
    "    if isbn in same_book_isbn_map:\n",
    "        return same_book_isbn_map[isbn]\n",
    "    return isbn\n",
    "\n",
    "def read_user_ratings(file_path: str, same_book_isbn_map: Dict[str, str]) -> pd.DataFrame:\n",
    "    df = pd.read_csv(file_path, dtype={\"UserID\": str, \"ISBN\": str, \"BookRating\": int})\n",
    "    df = df[df.ISBN.isin(good_isbns)]\n",
    "    df[\"ISBN\"] = df[\"ISBN\"].apply(partial(map_if_duplicate, same_book_isbn_map=same_book_isbn_map))\n",
    "    df.drop_duplicates(subset=[\"UserID\", \"ISBN\"], keep=\"last\", inplace=True)\n",
    "    return df\n",
    "\n",
    "ratings_train_df = read_user_ratings(ratings_train_fpath, same_book_isbn_map)\n",
    "ratings_test_df = read_user_ratings(ratings_val_fpath, same_book_isbn_map)\n",
    "ratings_train_df.head()"
   ]
  },
  {
   "cell_type": "code",
   "execution_count": 11,
   "metadata": {
    "tags": []
   },
   "outputs": [
    {
     "name": "stdout",
     "output_type": "stream",
     "text": [
      "The distribution of users based on how many books they rated:\n"
     ]
    },
    {
     "data": {
      "text/plain": [
       "count    80043.000000\n",
       "mean        11.300913\n",
       "std         90.128380\n",
       "min          1.000000\n",
       "50%          1.000000\n",
       "60%          2.000000\n",
       "70%          3.000000\n",
       "80%          5.000000\n",
       "90%         13.000000\n",
       "95%         31.000000\n",
       "99%        180.000000\n",
       "max      10267.000000\n",
       "Name: UserID, dtype: float64"
      ]
     },
     "execution_count": 11,
     "metadata": {},
     "output_type": "execute_result"
    }
   ],
   "source": [
    "print(\"The distribution of users based on how many books they rated:\")\n",
    "ratings_train_df.UserID.value_counts().describe(percentiles=[0.6, 0.7, 0.8, 0.9, 0.95, 0.99])"
   ]
  },
  {
   "cell_type": "code",
   "execution_count": 12,
   "metadata": {
    "tags": []
   },
   "outputs": [],
   "source": [
    "# create a map from ISBN to the average rating of that book; will be used by\n",
    "# the baseline predictor to which we will compare our model\n",
    "avg_df = ratings_train_df.groupby('ISBN') \\\n",
    "   .agg({'UserID':'size', 'BookRating':'mean'}) \\\n",
    "   .rename(columns={'UserID':'Count','BookRating':'AvgRating'}) \\\n",
    "   .reset_index()\n",
    "isbn_to_avg_rating = dict(zip(avg_df.ISBN, avg_df.AvgRating))"
   ]
  },
  {
   "cell_type": "code",
   "execution_count": 13,
   "metadata": {
    "tags": []
   },
   "outputs": [],
   "source": [
    "def filter_and_sample_users_by_n_ratings(\n",
    "    ratings: pd.DataFrame, \n",
    "    min_ratings: int = 2, \n",
    "    max_ratings: Optional[int] = 200,\n",
    ") -> pd.DataFrame:\n",
    "    \"\"\"\n",
    "    Filter out users with too few book ratings. Optionally, sample the ratings\n",
    "    of users that have too many.\n",
    "    \n",
    "    Args:\n",
    "        ratings: A pandas dataframe with the \"UserID\", \"ISBN\" and \"BookRating\" \n",
    "            columns, representing all book ratings of users in a given split.\n",
    "        min_ratings: The minimum number of books each given user must have \n",
    "            rated to not be filtered out. Defaults to 2.\n",
    "        max_ratings: The maximum number of book ratings per user. If not None, \n",
    "            will sample this number of ratings for each user. Defaults to 200.\n",
    "            \n",
    "    Returns:\n",
    "        The dataframe with the filtered ratings.\n",
    "    \"\"\"\n",
    "\n",
    "    users_with_min_ratings = ratings.UserID.value_counts() >= min_ratings\n",
    "    filtered_users = set(users_with_min_ratings.keys()[users_with_min_ratings.values])\n",
    "\n",
    "    filtered_ratings = ratings[ratings[\"UserID\"].isin(filtered_users)]\n",
    "    filtered_ratings = filtered_ratings.groupby(\"UserID\", as_index=False).nth(range(max_ratings))\n",
    "    return filtered_ratings"
   ]
  },
  {
   "cell_type": "code",
   "execution_count": 14,
   "metadata": {
    "tags": []
   },
   "outputs": [
    {
     "name": "stdout",
     "output_type": "stream",
     "text": [
      "The distribution of users based on how many books they rated (after filtering):\n"
     ]
    },
    {
     "data": {
      "text/plain": [
       "count    35616.000000\n",
       "mean        16.319547\n",
       "std         35.315135\n",
       "min          2.000000\n",
       "50%          4.000000\n",
       "60%          6.000000\n",
       "70%          9.000000\n",
       "80%         15.000000\n",
       "90%         35.000000\n",
       "95%         79.000000\n",
       "99%        200.000000\n",
       "max        200.000000\n",
       "Name: UserID, dtype: float64"
      ]
     },
     "execution_count": 14,
     "metadata": {},
     "output_type": "execute_result"
    }
   ],
   "source": [
    "ratings_train_filtered = filter_and_sample_users_by_n_ratings(ratings_train_df, max_ratings=200)\n",
    "\n",
    "# remove the books from the test subset that are not in the training set.\n",
    "ratings_test_df = ratings_test_df[ratings_test_df.ISBN.isin(ratings_train_filtered.ISBN)]\n",
    "ratings_test_filtered = filter_and_sample_users_by_n_ratings(ratings_test_df, max_ratings=200)\n",
    "\n",
    "print(\"The distribution of users based on how many books they rated (after filtering):\")\n",
    "ratings_train_filtered.UserID.value_counts().describe(percentiles=[0.6, 0.7, 0.8, 0.9, 0.95, 0.99])"
   ]
  },
  {
   "cell_type": "code",
   "execution_count": 15,
   "metadata": {
    "tags": []
   },
   "outputs": [
    {
     "data": {
      "image/png": "[encoded data removed]",
      "text/plain": [
       "<Figure size 1200x600 with 1 Axes>"
      ]
     },
     "metadata": {},
     "output_type": "display_data"
    }
   ],
   "source": [
    "plt.figure(figsize=(12,6))\n",
    "plt.title(\"Ratings Count in Training Subset\")\n",
    "g = sns.histplot(\n",
    "    data=pd.Categorical(ratings_train_filtered.BookRating, range(11)),\n",
    "    color=\"blue\",\n",
    "    bins=range(11),\n",
    "    shrink=0.75,\n",
    "    log_scale=(False, True),\n",
    ")\n",
    "g.set_xticks(range(11)) \n",
    "plt.show()"
   ]
  },
  {
   "cell_type": "code",
   "execution_count": 16,
   "metadata": {
    "tags": []
   },
   "outputs": [
    {
     "name": "stdout",
     "output_type": "stream",
     "text": [
      "Distribution of books by the number of users that rated them:\n"
     ]
    },
    {
     "data": {
      "text/plain": [
       "count    170978.000000\n",
       "mean          3.399484\n",
       "std          12.533837\n",
       "min           1.000000\n",
       "50%           1.000000\n",
       "75%           2.000000\n",
       "80%           3.000000\n",
       "90%           5.000000\n",
       "99%          38.000000\n",
       "max        1593.000000\n",
       "Name: ISBN, dtype: float64"
      ]
     },
     "execution_count": 16,
     "metadata": {},
     "output_type": "execute_result"
    }
   ],
   "source": [
    "print(\"Distribution of books by the number of users that rated them:\")\n",
    "ratings_train_filtered.ISBN.value_counts().describe(percentiles=[0.75, 0.8, 0.9, 0.99])"
   ]
  },
  {
   "cell_type": "markdown",
   "metadata": {},
   "source": [
    "<a id=\"Code-Anonymous-Features-Generation\"></a>\n",
    "### Anonymous Features Generation"
   ]
  },
  {
   "cell_type": "code",
   "execution_count": 17,
   "metadata": {
    "tags": []
   },
   "outputs": [
    {
     "name": "stdout",
     "output_type": "stream",
     "text": [
      "(2,)\n",
      "(2, 3)\n",
      "(3,)\n",
      "(2, 4)\n",
      "(0,)\n",
      "(1,)\n"
     ]
    }
   ],
   "source": [
    "def random_combinations(\n",
    "    iterable: Iterable, \n",
    "    combination_size: int, \n",
    "    n_combinations: int, \n",
    "    sampling_start=1000\n",
    ") -> List[Tuple]:\n",
    "    \"\"\"\n",
    "    Generate random combinations (without replacement) of a given size from the\n",
    "    items of an iterable. Makes use of random sampling to avoid generating too \n",
    "    many combinations (which will blow up memory).\n",
    "\n",
    "    Args:\n",
    "        iterable: The iterable that contains the items to be sampled\n",
    "            in combinations.\n",
    "        combination_size: The number of items to sample per combination.\n",
    "        n_combinations: The number of combinations of items to return.\n",
    "            The actual number of returned combinations may be lower.\n",
    "\n",
    "    Returns:\n",
    "        A list of tuples, where each tuple is a unique combination of items \n",
    "        from the iterable object.\n",
    "    \"\"\"\n",
    "    items = tuple(iterable)\n",
    "    assert combination_size <= len(items)\n",
    "\n",
    "    total_combinations = math.comb(len(items), combination_size)\n",
    "\n",
    "    # only use sampling if we would need to store in memory at least \"sampling_start\"\n",
    "    # combinations AND if we need to sample an order of magnitude fewer combinations\n",
    "    # than the total amount of combinations available\n",
    "    if total_combinations >= sampling_start and total_combinations > 10 * n_combinations:\n",
    "        combinations = set()\n",
    "\n",
    "        while True:\n",
    "            indices = sorted(random.sample(range(len(items)), combination_size))\n",
    "            combination = tuple(items[i] for i in indices)\n",
    "            if combination not in combinations:\n",
    "                combinations.add(combination)\n",
    "                if len(combinations) >= n_combinations:\n",
    "                    break\n",
    "\n",
    "        combinations = list(combinations)\n",
    "    else:\n",
    "        combinations = list(itertools.combinations(iterable, combination_size))\n",
    "\n",
    "    random.shuffle(combinations)\n",
    "    return combinations[:n_combinations]\n",
    "\n",
    "iters = [\n",
    "    random_combinations(range(4), 1, 4),\n",
    "    random_combinations(range(10), 2, 2),\n",
    "]\n",
    "for x in filter(lambda x: x is not None, itertools.chain(*itertools.zip_longest(*iters, fillvalue=None))):\n",
    "    print(x)"
   ]
  },
  {
   "cell_type": "code",
   "execution_count": 18,
   "metadata": {
    "tags": []
   },
   "outputs": [],
   "source": [
    "def generate_sample_context(\n",
    "    liked_books: Iterable[str], \n",
    "    max_samples: int, \n",
    "    min_size: int = 1, \n",
    "    max_size: int = 5\n",
    ") -> Generator[Tuple[str, ...], None, None]:\n",
    "    \"\"\"\n",
    "    Generator of sample contexts. Each user may have tens or hundreds of liked \n",
    "    books, but we would like to use only a few of these at a time to predict\n",
    "    the rating of a movie that the user did not yet watch.\n",
    "\n",
    "    Args:\n",
    "        liked_books: The IDs (ISBN) of the books that a given user has liked.\n",
    "        max_samples: The maximum number of sample contexts that will be \n",
    "            generated.\n",
    "        min_size: The minimum context size.\n",
    "        max_size: The maximum context size.\n",
    "\n",
    "    Returns:\n",
    "        A generator of sample contexts, which returns contexts of alternating \n",
    "        sizes.\n",
    "    \"\"\"\n",
    "\n",
    "    n_sizes = max_size - min_size + 1\n",
    "    if n_sizes <= 0:\n",
    "        return\n",
    "\n",
    "    iters = []\n",
    "    for size in range(min_size, max_size+1):\n",
    "        iters.append(random_combinations(liked_books, size, max_samples // n_sizes * 2))\n",
    "\n",
    "    # each input iterator (from \"iters\") returns sample contexts of a fixed \n",
    "    # size and we want to alternate the context sizes; for this we zip all\n",
    "    # iterators, using zip_longest to fill shorter iterators with None\n",
    "    zip_iters = itertools.zip_longest(*iters, fillvalue=None)\n",
    "\n",
    "    # we then parse each zipped tuple, which contains one context of each\n",
    "    # size; with min_size=1 and max_size=3, we would obtain at the output of \n",
    "    # this generator, contexts of size 1, 2, 3, 1, 2, 3, etc.\n",
    "    chain_iters = itertools.chain(*zip_iters)\n",
    "\n",
    "    # filter out None since some iterators will be shorter than others (there\n",
    "    # are far fewer combinations of size 1 than there are of size 2 or 3)\n",
    "    contexts_alternating_sizes = filter(lambda x: x is not None, chain_iters)\n",
    "\n",
    "    for index, context in enumerate(contexts_alternating_sizes):\n",
    "        if index >= max_samples:\n",
    "            return\n",
    "        yield context\n",
    "\n",
    "\n",
    "def generate_user_samples(\n",
    "    user_ratings: List[Tuple[str, int]],\n",
    "    min_context_size: int, \n",
    "    max_context_size: int, \n",
    "    like_min_rating: int = 7, \n",
    "    amplification_factor: int = 5\n",
    ") -> List[Tuple[int, str, Tuple[str, ...]]]:\n",
    "    \"\"\"\n",
    "    Args:\n",
    "        user_ratings: List of tuples, where each tuple contains an ISBN and the\n",
    "            rating that the user gave that book.\n",
    "        min_context_size: The minimum number of books that are used to describe\n",
    "            the user preferences when predicting the rating of another book.\n",
    "        max_context_size: The maximum number of books that are used to describe\n",
    "            the user preferences when predicting the rating of another book.\n",
    "        like_min_rating: An integer 0 <= x <= 10, which represents the\n",
    "            minimum rating to consider a book as \"liked\" by the user.\n",
    "        amplification_factor: The maximum number of times each book\n",
    "            rating can be duplicated in the output dataset. The duplicates\n",
    "            will necessarily have a different context (the liked books).\n",
    "            We do this because each book has, on average, 2-3 ratings from\n",
    "            users, which is a very small number to do machine learning with.\n",
    "            With the amplification factor of 5, we should have 10-15 samples\n",
    "            per book, on average. While the rating itself (0-10) will be the\n",
    "            same, the context for each duplicate will be different, limiting\n",
    "            overfitting.\n",
    "\n",
    "    Returns:\n",
    "        A list of samples used for training or testing. These consist of a \n",
    "        target rating, which the model needs to predict, the ID (ISBN) of the \n",
    "        book for which we are predicting, and a list of book IDs providing a \n",
    "        context for the user (which other books he liked).\n",
    "    \"\"\"\n",
    "    if like_min_rating not in range(11):\n",
    "        raise ValueError('Argument \"like_min_rating\" should be a value in 0 <= x <= 10')\n",
    "\n",
    "    if not amplification_factor > 0:\n",
    "        raise ValueError('Argument \"amplification_factor\" must be greater than 0')\n",
    "\n",
    "    liked_books = [x[0] for x in user_ratings if x[1] >= like_min_rating]\n",
    "    if len(liked_books) == 0:\n",
    "        return []\n",
    "\n",
    "    samples = []\n",
    "    max_samples = int(amplification_factor * len(user_ratings))\n",
    "\n",
    "    context_generator = generate_sample_context(\n",
    "        liked_books=liked_books, \n",
    "        max_samples=max_samples, \n",
    "        min_size=min_context_size, \n",
    "        max_size=min(max_context_size, len(user_ratings)-1, len(liked_books)),\n",
    "    )\n",
    "\n",
    "    liked_books_set = set(liked_books)\n",
    "    target_heap_counter = []\n",
    "    for book_id, book_rating in user_ratings:\n",
    "        # give the liked books a slightly smaller value to be retrieved before\n",
    "        # the other books; the reasoning is that because they are included in \n",
    "        # the context it will be harder to use them as the target book so we \n",
    "        # need to try to use them as quickly as possible\n",
    "        if book_id in liked_books_set:\n",
    "            heap_counter = 0\n",
    "        else:\n",
    "            heap_counter = 0.5\n",
    "        heappush(target_heap_counter, (heap_counter, (book_id, book_rating)))\n",
    "\n",
    "    for context in context_generator:\n",
    "        # buffer to reinsert books extracted from the heap that could not be\n",
    "        # used as targets for this contexts because they are in the context\n",
    "        buff = []\n",
    "        context_set = set(context)\n",
    "\n",
    "        while len(target_heap_counter) > 0:\n",
    "            target_candidate = heappop(target_heap_counter)\n",
    "            heap_counter, (book_id, book_rating) = target_candidate\n",
    "            if book_id in context_set:\n",
    "                buff.append(target_candidate)\n",
    "            else:\n",
    "                if book_rating == 0:\n",
    "                    # this should reduce the number of copies of samples with 0\n",
    "                    # as their rating; we do this because they are \n",
    "                    # overrepresented\n",
    "                    heap_counter += 2\n",
    "                elif book_rating < 5:\n",
    "                    # the ratings between 1 and 4 (inclusive) are \n",
    "                    # underrepresented; we count them slower to than other \n",
    "                    # ratings to include more of them overwall\n",
    "                    heap_counter += 0.75\n",
    "                else:\n",
    "                    heap_counter += 1\n",
    "\n",
    "                heappush(target_heap_counter, (heap_counter, (book_id, book_rating)))\n",
    "                samples.append((book_rating, book_id, context))\n",
    "                break\n",
    "\n",
    "        if len(target_heap_counter) == 0:\n",
    "            raise RuntimeError(f\"Could not find a good candidate for the given context: {context}\")\n",
    "\n",
    "        for rejected_candidate in buff:\n",
    "            heappush(target_heap_counter, rejected_candidate)\n",
    "            \n",
    "    random.shuffle(samples)\n",
    "    \n",
    "    return samples\n",
    "    \n",
    "\n",
    "def generate_anonymous_samples(\n",
    "    ratings: pd.DataFrame, \n",
    "    min_context_size: int, \n",
    "    max_context_size: int,\n",
    "    like_min_rating: int = 7, \n",
    "    amplification_factor: int = 5,\n",
    "    books: Optional[pd.DataFrame] = None,\n",
    "):\n",
    "    \"\"\"\n",
    "    Args:\n",
    "        ratings (pd.DataFrame): A pandas dataframe containing book ratings from\n",
    "            various users.\n",
    "        min_context_size: The minimum number of books that are used to describe\n",
    "            the user preferences when predicting the rating of another book.\n",
    "        max_context_size: The maximum number of books that are used to describe\n",
    "            the user preferences when predicting the rating of another book.\n",
    "        like_min_rating: An integer 0 <= x <= 10, which represents the\n",
    "            minimum rating to consider a book as \"liked\" by the user.\n",
    "        amplification_factor: The maximum number of times each book\n",
    "            rating can be duplicated in the output dataset. The duplicates\n",
    "            will necessarily have a different context (the liked books).\n",
    "            We do this because each book has, on average, 2-3 ratings from\n",
    "            users, which is a very small number to do machine learning with.\n",
    "            With the amplification factor of 5, we should have 10-15 samples\n",
    "            per book, on average. While the rating itself (0-10) will be the\n",
    "            same, the context for each duplicate will be different, limiting\n",
    "            overfitting.\n",
    "        books: WARNING, experimental feature. For now it's not clear if it helps\n",
    "            or hurts the model. If not None, will generate a fan user for each \n",
    "            author. Each fan will have read all of the books from that author \n",
    "            and given them a rating of 10. The reasoning for this is boosting \n",
    "            the score of a book when another book from the same author is used \n",
    "            as context.\n",
    "\n",
    "    Returns:\n",
    "        A list of samples used for training or testing. These consist of a \n",
    "        target rating, which the model needs to predict, the ID (ISBN) of the \n",
    "        book for which we are predicting, and a list of book IDs providing a \n",
    "        context for the user (which other books he liked).\n",
    "    \"\"\"\n",
    "    samples = []\n",
    "    for user_id, user_ratings in ratings.groupby(\"UserID\"):\n",
    "        if len(user_ratings) == 1:\n",
    "            raise ValueError(f\"User {user_id} only has 1 rated book\")\n",
    "        samples.extend(\n",
    "            generate_user_samples(\n",
    "                user_ratings=list(zip(user_ratings.ISBN, user_ratings.BookRating)), \n",
    "                min_context_size=min_context_size, \n",
    "                max_context_size=max_context_size, \n",
    "                amplification_factor=amplification_factor\n",
    "            )\n",
    "        )\n",
    "        \n",
    "    if books is not None:\n",
    "        books_with_real_rating = set(x[1] for x in samples)\n",
    "        books = books[books.ISBN.isin(books_with_real_rating)]\n",
    "        for author_name, author_df in books.groupby(\"BookAuthorSimple\"):\n",
    "            if len(author_df) == 1:\n",
    "                continue\n",
    "            samples.extend(\n",
    "                generate_user_samples(\n",
    "                    user_ratings=list(zip(author_df.ISBN, itertools.repeat(10))), \n",
    "                    min_context_size=min_context_size, \n",
    "                    max_context_size=max_context_size, \n",
    "                    amplification_factor=amplification_factor\n",
    "                )\n",
    "            )\n",
    "        \n",
    "    random.shuffle(samples)\n",
    "    \n",
    "    ratings = pd.Series(data=[x[0] for x in samples], name=\"BookRating\")\n",
    "    book_ids = pd.Series(data=[x[1] for x in samples], name=\"ISBN\")\n",
    "    contexts = [x[2] for x in samples]\n",
    "    \n",
    "    return ratings, book_ids, contexts"
   ]
  },
  {
   "cell_type": "code",
   "execution_count": 19,
   "metadata": {
    "tags": []
   },
   "outputs": [
    {
     "name": "stdout",
     "output_type": "stream",
     "text": [
      "CPU times: user 31.7 s, sys: 185 ms, total: 31.8 s\n",
      "Wall time: 31.9 s\n"
     ]
    }
   ],
   "source": [
    "%%time\n",
    "ratings_train, book_ids_train, contexts_train = generate_anonymous_samples(\n",
    "    ratings=ratings_train_filtered, \n",
    "    min_context_size=1, \n",
    "    max_context_size=10, \n",
    "    amplification_factor=5,\n",
    "    # books=books_df,\n",
    ")\n",
    "ratings_test, book_ids_test, contexts_test = generate_anonymous_samples(ratings_test_filtered, 5, 10)"
   ]
  },
  {
   "cell_type": "code",
   "execution_count": 20,
   "metadata": {
    "tags": []
   },
   "outputs": [
    {
     "data": {
      "image/png": "[encoded data removed]",
      "text/plain": [
       "<Figure size 1200x600 with 1 Axes>"
      ]
     },
     "metadata": {},
     "output_type": "display_data"
    }
   ],
   "source": [
    "plt.figure(figsize=(12,6))\n",
    "plt.title(\"Ratings Count in Training Subset (after anonyous samples generation)\")\n",
    "g = sns.histplot(\n",
    "    data=pd.Categorical(ratings_train, range(11)),\n",
    "    color=\"blue\",\n",
    "    bins=range(11),\n",
    "    shrink=0.75,\n",
    "    log_scale=(False, True),\n",
    ")\n",
    "g.set_xticks(range(11)) \n",
    "plt.show()"
   ]
  },
  {
   "cell_type": "code",
   "execution_count": 21,
   "metadata": {
    "tags": []
   },
   "outputs": [],
   "source": [
    "%%capture\n",
    "# create regression target with values between 0 and 1\n",
    "target_train = (ratings_train / 10).astype(\"float32\")\n",
    "target_train.rename(\"TargetTrain\", inplace=True)\n",
    "target_test = (ratings_test / 10).astype(\"float32\")\n",
    "target_test.rename(\"TargetTest\", inplace=True)"
   ]
  },
  {
   "cell_type": "markdown",
   "metadata": {},
   "source": [
    "<a id='Categorical-Data-Encoding'></a>\n",
    "### Categorical Data Encoding\n",
    "\n",
    "In order to convert categorical data to numbers for our model we need to use one-hot and multi-hot encoding. The target vector contains only one class (the book for which we are predicting the rating), and therefore can be one-hot encoded. The context vector contains multiple classes (the explicit feedback provided by the anonymous user; e.g. the books he read and liked), and therefore should be multi-hot encoded."
   ]
  },
  {
   "cell_type": "code",
   "execution_count": 22,
   "metadata": {
    "tags": []
   },
   "outputs": [],
   "source": [
    "target_id_encoder = OneHotEncoder(handle_unknown='ignore', sparse=True)\n",
    "target_id_encoder.fit(np.array(list(set(book_ids_train))).reshape(-1, 1))\n",
    "target_id_encoder.categories_[0].shape\n",
    "# save the target encoder to file\n",
    "with open(\"target_encoder.pkl\", \"wb\") as f: \n",
    "    pickle.dump(target_id_encoder, f)"
   ]
  },
  {
   "cell_type": "code",
   "execution_count": 23,
   "metadata": {
    "tags": []
   },
   "outputs": [],
   "source": [
    "context_encoder = MultiLabelBinarizer(sparse_output=True)\n",
    "context_encoder.fit(np.array(list(set(ratings_train_filtered.ISBN))).reshape(-1, 1))\n",
    "context_encoder.classes_.shape\n",
    "# save the context encoder to file\n",
    "with open(\"context_encoder.pkl\", \"wb\") as f: \n",
    "    pickle.dump(context_encoder, f)"
   ]
  },
  {
   "cell_type": "code",
   "execution_count": 24,
   "metadata": {
    "tags": []
   },
   "outputs": [],
   "source": [
    "# turn the target ids into one-hot encoded vectors (represented with sparse matrices)\n",
    "X_train_target_ids = target_id_encoder.transform(np.array(book_ids_train).reshape(-1, 1)).astype('float32')\n",
    "X_test_target_ids = target_id_encoder.transform(np.array(book_ids_test).reshape(-1, 1)).astype('float32')\n",
    "\n",
    "# check that no entries were ignored by the encoder; this could happen if there\n",
    "# are books in the test set that are not in the training set\n",
    "assert X_train_target_ids.shape[0] == len(book_ids_train)\n",
    "assert X_test_target_ids.shape[0] == len(book_ids_test)"
   ]
  },
  {
   "cell_type": "code",
   "execution_count": 25,
   "metadata": {
    "tags": []
   },
   "outputs": [],
   "source": [
    "# turn the context ids into one-hot encoded vectors (represented with sparse \n",
    "# matrices) and divide each context vector by the number of non-zero elements\n",
    "# (see introduction for explanations)\n",
    "X_train_context = (diags([1 / len(x) for x in contexts_train]) * context_encoder.transform(contexts_train)).astype('float32')\n",
    "X_test_context = (diags([1 / len(x) for x in contexts_test]) * context_encoder.transform(contexts_test)).astype('float32')\n",
    "\n",
    "assert X_train_context.shape[0] == len(book_ids_train)\n",
    "assert X_test_context.shape[0] == len(book_ids_test)"
   ]
  },
  {
   "cell_type": "code",
   "execution_count": 26,
   "metadata": {
    "tags": []
   },
   "outputs": [],
   "source": [
    "# merge the one hot encoded target book id and the weighted multi-hot encoded\n",
    "# context, which is made of multiple \"liked\" book ids\n",
    "X_test = hstack([X_test_target_ids, X_test_context], format=\"csr\")\n",
    "X_train = hstack([X_train_target_ids, X_train_context], format=\"csr\")\n",
    "\n",
    "assert X_test.shape[1] == X_test_target_ids.shape[1] + X_test_context.shape[1]\n",
    "assert X_test.shape[0] == X_test_target_ids.shape[0] and X_test_target_ids.shape[0] == X_test_context.shape[0]\n",
    "assert X_train.shape[1] == X_train_target_ids.shape[1] + X_train_context.shape[1]\n",
    "assert X_train.shape[0] == X_train_target_ids.shape[0] and X_train_target_ids.shape[0] == X_train_context.shape[0]"
   ]
  },
  {
   "cell_type": "code",
   "execution_count": 27,
   "metadata": {
    "tags": []
   },
   "outputs": [],
   "source": [
    "Y_train = target_train\n",
    "Y_test = target_test\n",
    "columns = X_train.shape[1]"
   ]
  },
  {
   "cell_type": "markdown",
   "metadata": {},
   "source": [
    "<a id='Upload-Training-Data'></a>\n",
    "### Upload Training Data\n",
    "\n",
    "The Amazon SageMaker implementation of Factorization Machines takes RecordIO-wrapped protobuf as input."
   ]
  },
  {
   "cell_type": "code",
   "execution_count": 28,
   "metadata": {
    "tags": []
   },
   "outputs": [],
   "source": [
    "def write_dataset_to_protobuf(X, Y, bucket, prefix, key):\n",
    "    buf = io.BytesIO()\n",
    "    smac.write_spmatrix_to_sparse_tensor(buf, X, Y)\n",
    "    buf.seek(0)\n",
    "    obj = '{}/{}'.format(prefix, key)\n",
    "    boto3.resource('s3').Bucket(bucket).Object(obj).upload_fileobj(buf)\n",
    "    return 's3://{}/{}'.format(bucket, obj)"
   ]
  },
  {
   "cell_type": "code",
   "execution_count": 29,
   "metadata": {
    "tags": []
   },
   "outputs": [
    {
     "name": "stdout",
     "output_type": "stream",
     "text": [
      "s3://sagemaker-eu-central-1-663187321862/books-recommender/anonymous-regressor/train/train.protobuf\n",
      "s3://sagemaker-eu-central-1-663187321862/books-recommender/anonymous-regressor/test/test.protobuf\n",
      "CPU times: user 2min 41s, sys: 5.47 s, total: 2min 46s\n",
      "Wall time: 2min 41s\n"
     ]
    }
   ],
   "source": [
    "%%time   \n",
    "test_data = write_dataset_to_protobuf(X_test, Y_test, bucket, test_prefix, test_key)    \n",
    "train_data = write_dataset_to_protobuf(X_train, Y_train, bucket, train_prefix, train_key) \n",
    "print(train_data)\n",
    "print(test_data)"
   ]
  },
  {
   "cell_type": "markdown",
   "metadata": {},
   "source": [
    "<a id='Model-Training'></a>\n",
    "## Model Training\n",
    "---\n",
    "\n",
    "Now that we are done with all the setup that is needed, we are ready to train our Factorization Machine. To begin, let us create a ``sageMaker.estimator.Estimator`` object. This estimator will launch the training job."
   ]
  },
  {
   "cell_type": "markdown",
   "metadata": {},
   "source": [
    "<a id='Training-Parameters'></a>\n",
    "### Training Parameters\n",
    "There are two kinds of parameters that need to be set for training. The first one are the parameters for the training job. These include:\n",
    "\n",
    "* **image_uri**: Container image for the algorithm\n",
    "* **Training instance count**: This is the number of instances on which to run the training. When the number of instances is greater than one, then the Factorization Machine algorithm will run in distributed settings. \n",
    "* **Training instance type**: This indicates the type of machine on which to run the training. \n",
    "* **Volume size**: Size in GB of the EBS volume to use for storing input data during training. Must be large enough to store training data.\n",
    "* **Max run time**: Timeout in seconds for training. After this amount of time Amazon SageMaker terminates the job regardless of its current status.\n",
    "* **Output path**: This the s3 folder in which the training output is stored."
   ]
  },
  {
   "cell_type": "code",
   "execution_count": 30,
   "metadata": {
    "tags": []
   },
   "outputs": [
    {
     "name": "stderr",
     "output_type": "stream",
     "text": [
      "Defaulting to the only supported framework/algorithm version: 1. Ignoring framework/algorithm version: latest.\n"
     ]
    }
   ],
   "source": [
    "training_image = sagemaker.image_uris.retrieve(\n",
    "    region=boto3.Session().region_name, \n",
    "    framework=\"factorization-machines\", \n",
    "    version='latest'\n",
    ")"
   ]
  },
  {
   "cell_type": "code",
   "execution_count": 31,
   "metadata": {
    "tags": []
   },
   "outputs": [],
   "source": [
    "fm = sagemaker.estimator.Estimator(\n",
    "    training_image,\n",
    "    role,\n",
    "    instance_count=1,\n",
    "    instance_type='ml.c4.xlarge',\n",
    "    volume_size=30,\n",
    "    max_run=86400,\n",
    "    output_path=output_prefix,\n",
    "    sagemaker_session=sess,\n",
    ")"
   ]
  },
  {
   "cell_type": "markdown",
   "metadata": {},
   "source": [
    "Apart from the above set of parameters, there are hyperparameters that are specific to the algorithm. These are:\n",
    "\n",
    "* **feature_dim**: The dimension of the input feature space. This could be very high with sparse input.\n",
    "* **num_factors**: The dimensionality of factorization. As mentioned initially, factorization machines find a lower dimensional representation of the interactions for all features. Making this value smaller provides a more parsimonious model, closer to a linear model, but may sacrifice information about interactions. Making it larger provides a higher-dimensional representation of feature interactions, but adds computational complexity and can lead to overfitting. In a practical application, time should be invested to tune this parameter to the appropriate value.\n",
    "* **predictor_type**: The type of predictor. binary_classifier: For binary classification tasks. regressor: For regression tasks.\n",
    "* **epochs**: The number of training epochs to run.\n",
    "* **mini_batch_size**: The size of mini-batch used for training. This value can be tuned for relatively minor improvements in fit and speed, but selecting a reasonable value relative to the dataset is appropriate in most cases.\n",
    "\n",
    "You can check all the available hyperparameters at [Factorization Machines Hyperparameters](https://docs.aws.amazon.com/sagemaker/latest/dg/fact-machines-hyperparameters.html).\n"
   ]
  },
  {
   "cell_type": "code",
   "execution_count": 32,
   "metadata": {
    "tags": []
   },
   "outputs": [],
   "source": [
    "fm.set_hyperparameters(\n",
    "    feature_dim=columns,\n",
    "    num_factors=8,\n",
    "    predictor_type='regressor',\n",
    "    epochs=1,\n",
    "    mini_batch_size=64\n",
    ")"
   ]
  },
  {
   "cell_type": "markdown",
   "metadata": {},
   "source": [
    "<a id='Launch-the-Training-Job'></a>\n",
    "### Launch the Training Job\n",
    "\n",
    "Start training by calling the fit method in the estimator. This will launch a SageMaker Training job with the requested parameters and hyperparameters.\n",
    "\n",
    "When it's done, run the next cell to see the training results."
   ]
  },
  {
   "cell_type": "code",
   "execution_count": null,
   "metadata": {
    "scrolled": true,
    "tags": []
   },
   "outputs": [],
   "source": [
    "%%time \n",
    "fm.fit(inputs={\"train\": train_data, \"test\": test_data}, logs=True)"
   ]
  },
  {
   "cell_type": "code",
   "execution_count": 34,
   "metadata": {
    "tags": []
   },
   "outputs": [
    {
     "data": {
      "text/markdown": [
       "\n",
       "<a id=\"Train-Job\"></a>\n",
       "### **Train Job**\n",
       "| | |\n",
       "|---|---|\n",
       "| **Name** | factorization-machines-2023-12-09-10-08-08-204 |\n",
       "| **ARN**  | arn:aws:sagemaker:eu-central-1:663187321862:training-job/factorization-machines-2023-12-09-10-08-08-204 |\n",
       "| **Creation Time** | 2023-12-09 10:08:08.343000+00:00 |\n",
       "| **Output** | s3://sagemaker-eu-central-1-663187321862/books-recommender/anonymous-regressor/output/factorization-machines-2023-12-09-10-08-08-204/output/model.tar.gz |\n",
       "| **Training Start Time** | 2023-12-09 10:09:33.018000+00:00 |\n",
       "| **Training End Time** | 2023-12-09 10:15:41.341000+00:00 |\n",
       "| **Training Time** | 368 seconds |\n",
       "| **Training Set Input** | s3://sagemaker-eu-central-1-663187321862/books-recommender/anonymous-regressor/train/ |\n",
       "\n",
       "<a id=\"Hyperparameters\"></a>\n",
       "#### Hyperparameters\n",
       "| | |\n",
       "|---|---|\n",
       "| **epochs** | 1 |\n",
       "| **feature_dim** | 320601 |\n",
       "| **mini_batch_size** | 64 |\n",
       "| **num_factors** | 8 |\n",
       "| **predictor_type** | regressor |\n",
       "\n",
       "<a id=\"Metrics\"></a>\n",
       "#### Metrics\n",
       "| | |\n",
       "|---|---|\n",
       "| **train:rmse:epoch** | 0.384994238615036 |\n",
       "| **train:progress** | 100.0 |\n",
       "| **test:mse** | 0.16782903671264648 |\n",
       "| **train:mse:batch** | 0.14824311435222626 |\n",
       "| **train:absolute_loss:epoch** | 0.35772112011909485 |\n",
       "| **test:absolute_loss** | 0.3832811117172241 |\n",
       "| **train:mse** | 0.14822056889533997 |\n",
       "| **train:mse:epoch** | 0.14822056889533997 |\n",
       "| **train:rmse:batch** | 0.3850235342979431 |\n",
       "| **train:rmse** | 0.384994238615036 |\n",
       "| **test:rmse** | 0.409669429063797 |\n",
       "| **train:absolute_loss:batch** | 0.35775911808013916 |\n",
       "| **train:absolute_loss** | 0.35772112011909485 |\n",
       "| **train:throughput** | 13099.603515625 |\n"
      ]
     },
     "metadata": {},
     "output_type": "display_data"
    }
   ],
   "source": [
    "from IPython.display import display, display_markdown\n",
    "\n",
    "job_desc = fm.latest_training_job.describe()\n",
    "\n",
    "job_name = job_desc[\"TrainingJobName\"]\n",
    "job_arn = job_desc[\"TrainingJobArn\"]\n",
    "creation_time = job_desc[\"CreationTime\"]\n",
    "train_start_time = job_desc[\"TrainingStartTime\"]\n",
    "train_end_time = job_desc[\"TrainingEndTime\"]\n",
    "job_output = job_desc[\"ModelArtifacts\"][\"S3ModelArtifacts\"]\n",
    "train_time = job_desc[\"TrainingTimeInSeconds\"]\n",
    "\n",
    "desc_md = f\"\"\"\n",
    "<a id=\"Train-Job\"></a>\n",
    "### **Train Job**\n",
    "| | |\n",
    "|---|---|\n",
    "| **Name** | {job_name} |\n",
    "| **ARN**  | {job_arn} |\n",
    "| **Creation Time** | {creation_time} |\n",
    "| **Output** | {job_output} |\n",
    "| **Training Start Time** | {train_start_time} |\n",
    "| **Training End Time** | {train_end_time} |\n",
    "| **Training Time** | {train_time} seconds |\n",
    "| **Training Set Input** | {s3_train} |\n",
    "\n",
    "<a id=\"Hyperparameters\"></a>\n",
    "#### Hyperparameters\n",
    "| | |\n",
    "|---|---|\n",
    "\"\"\"\n",
    "for name, val in job_desc[\"HyperParameters\"].items():\n",
    "    desc_md += f\"| **{name}** | {val} |\\n\"\n",
    "\n",
    "desc_md += \"\"\"\n",
    "<a id=\"Metrics\"></a>\n",
    "#### Metrics\n",
    "| | |\n",
    "|---|---|\n",
    "\"\"\"\n",
    "for metric in job_desc[\"FinalMetricDataList\"]:\n",
    "    name, val = metric[\"MetricName\"], metric[\"Value\"]\n",
    "    desc_md += f\"| **{name}** | {val} |\\n\"\n",
    "\n",
    "display_markdown(desc_md, raw=True)"
   ]
  },
  {
   "cell_type": "markdown",
   "metadata": {},
   "source": [
    "<a id='Model-Evaluation'></a>\n",
    "## Model Evaluation\n",
    "---"
   ]
  },
  {
   "cell_type": "markdown",
   "metadata": {},
   "source": [
    "<a id='Batch-Inference'></a>\n",
    "### Batch Inference\n",
    "We will use the trained model to perform a batch inference over the test set."
   ]
  },
  {
   "cell_type": "code",
   "execution_count": 35,
   "metadata": {
    "tags": []
   },
   "outputs": [
    {
     "name": "stdout",
     "output_type": "stream",
     "text": [
      "Batch inference data path:  s3://sagemaker-eu-central-1-663187321862/books-recommender/anonymous-regressor/batch_inference/test.protobuf\n"
     ]
    }
   ],
   "source": [
    "def write_dataset_to_protobuf_batch_inference(X, bucket, prefix, key):\n",
    "    buf = io.BytesIO()\n",
    "    smac.write_spmatrix_to_sparse_tensor(buf, X)\n",
    "    buf.seek(0)\n",
    "    obj = '{}/{}'.format(prefix, key)\n",
    "    boto3.resource('s3').Bucket(bucket).Object(obj).upload_fileobj(buf)\n",
    "    return 's3://{}/{}'.format(bucket,obj)\n",
    "\n",
    "# upload test data to S3 for batch inference\n",
    "s3_batch_output = \"s3://{}/{}/batch_output/\".format(bucket, prefix)\n",
    "prefix_batch = \"{}/batch_inference\".format(prefix)\n",
    "s3_batch_input = write_dataset_to_protobuf_batch_inference(X_test, bucket, prefix_batch, test_key)\n",
    "print(\"Batch inference data path: \", s3_batch_input)"
   ]
  },
  {
   "cell_type": "code",
   "execution_count": 36,
   "metadata": {
    "tags": []
   },
   "outputs": [
    {
     "name": "stderr",
     "output_type": "stream",
     "text": [
      "INFO:sagemaker:Creating model with name: factorization-machines-2023-12-09-10-15-59-733\n"
     ]
    },
    {
     "name": "stdout",
     "output_type": "stream",
     "text": [
      "Launching Batch Transform Job factorization-machines-2023-12-09-10-08-08-204-38251d73\n"
     ]
    },
    {
     "name": "stderr",
     "output_type": "stream",
     "text": [
      "INFO:sagemaker:Creating transform job with name: factorization-machines-2023-12-09-10-08-08-204-38251d73\n"
     ]
    },
    {
     "name": "stdout",
     "output_type": "stream",
     "text": [
      ".......................................................................................!\n",
      "CPU times: user 280 ms, sys: 52.8 ms, total: 333 ms\n",
      "Wall time: 7min 23s\n"
     ]
    }
   ],
   "source": [
    "%%time \n",
    "s3_batch_inference = \"s3://{}/{}/batch_inference/\".format(bucket, prefix)\n",
    "transform_job_name = f\"{job_name}-{str(uuid.uuid4())[:8]}\"\n",
    "print(f\"Launching Batch Transform Job {transform_job_name}\")\n",
    "\n",
    "fm_transformer = fm.transformer(\n",
    "    instance_count=1,\n",
    "    output_path=s3_batch_output,\n",
    "    instance_type=\"ml.c4.xlarge\",\n",
    "    max_payload=1,\n",
    ")\n",
    "\n",
    "fm_transformer.transform(\n",
    "    data=s3_batch_inference,\n",
    "    split_type=\"RecordIO\",\n",
    "    content_type=\"application/x-recordio-protobuf\",\n",
    "    job_name=transform_job_name,\n",
    "    wait=True,\n",
    "    logs=False\n",
    ")"
   ]
  },
  {
   "cell_type": "code",
   "execution_count": 37,
   "metadata": {
    "tags": []
   },
   "outputs": [],
   "source": [
    "# download the predictions \n",
    "results_file_name = \"inference_batch_output\"\n",
    "results_prefix_name = \"{}/batch_output/test.protobuf.out\".format(prefix)\n",
    "s3_client = boto3.client('s3')\n",
    "s3_client.download_file(bucket, results_prefix_name, results_file_name)\n",
    "with open(results_file_name) as f:\n",
    "    results = f.readlines() "
   ]
  },
  {
   "cell_type": "code",
   "execution_count": 38,
   "metadata": {
    "tags": []
   },
   "outputs": [
    {
     "data": {
      "text/html": [
       "<div>\n",
       "<style scoped>\n",
       "    .dataframe tbody tr th:only-of-type {\n",
       "        vertical-align: middle;\n",
       "    }\n",
       "\n",
       "    .dataframe tbody tr th {\n",
       "        vertical-align: top;\n",
       "    }\n",
       "\n",
       "    .dataframe thead th {\n",
       "        text-align: right;\n",
       "    }\n",
       "</style>\n",
       "<table border=\"1\" class=\"dataframe\">\n",
       "  <thead>\n",
       "    <tr style=\"text-align: right;\">\n",
       "      <th></th>\n",
       "      <th>ISBN</th>\n",
       "      <th>ContextSize</th>\n",
       "      <th>Relevance</th>\n",
       "      <th>BookRating</th>\n",
       "      <th>TargetTest</th>\n",
       "      <th>score</th>\n",
       "      <th>PredictionFromAverage</th>\n",
       "    </tr>\n",
       "  </thead>\n",
       "  <tbody>\n",
       "    <tr>\n",
       "      <th>0</th>\n",
       "      <td>0739302248</td>\n",
       "      <td>7</td>\n",
       "      <td>Not Relevant</td>\n",
       "      <td>0</td>\n",
       "      <td>0.0</td>\n",
       "      <td>0.392497</td>\n",
       "      <td>0.297475</td>\n",
       "    </tr>\n",
       "    <tr>\n",
       "      <th>1</th>\n",
       "      <td>0192831275</td>\n",
       "      <td>5</td>\n",
       "      <td>Not Relevant</td>\n",
       "      <td>5</td>\n",
       "      <td>0.5</td>\n",
       "      <td>0.419717</td>\n",
       "      <td>0.000000</td>\n",
       "    </tr>\n",
       "    <tr>\n",
       "      <th>2</th>\n",
       "      <td>0449904962</td>\n",
       "      <td>5</td>\n",
       "      <td>Relevant</td>\n",
       "      <td>10</td>\n",
       "      <td>1.0</td>\n",
       "      <td>0.467274</td>\n",
       "      <td>0.450000</td>\n",
       "    </tr>\n",
       "    <tr>\n",
       "      <th>3</th>\n",
       "      <td>1568303823</td>\n",
       "      <td>10</td>\n",
       "      <td>Relevant</td>\n",
       "      <td>10</td>\n",
       "      <td>1.0</td>\n",
       "      <td>0.403187</td>\n",
       "      <td>0.000000</td>\n",
       "    </tr>\n",
       "    <tr>\n",
       "      <th>4</th>\n",
       "      <td>0452284937</td>\n",
       "      <td>10</td>\n",
       "      <td>Relevant</td>\n",
       "      <td>9</td>\n",
       "      <td>0.9</td>\n",
       "      <td>0.567212</td>\n",
       "      <td>0.405115</td>\n",
       "    </tr>\n",
       "  </tbody>\n",
       "</table>\n",
       "</div>"
      ],
      "text/plain": [
       "         ISBN  ContextSize     Relevance  BookRating  TargetTest     score  \\\n",
       "0  0739302248            7  Not Relevant           0         0.0  0.392497   \n",
       "1  0192831275            5  Not Relevant           5         0.5  0.419717   \n",
       "2  0449904962            5      Relevant          10         1.0  0.467274   \n",
       "3  1568303823           10      Relevant          10         1.0  0.403187   \n",
       "4  0452284937           10      Relevant           9         0.9  0.567212   \n",
       "\n",
       "   PredictionFromAverage  \n",
       "0               0.297475  \n",
       "1               0.000000  \n",
       "2               0.450000  \n",
       "3               0.000000  \n",
       "4               0.405115  "
      ]
     },
     "execution_count": 38,
     "metadata": {},
     "output_type": "execute_result"
    }
   ],
   "source": [
    "# create prediction dataframe with all of the relevant evaluation info\n",
    "results_df = pd.concat(\n",
    "    [\n",
    "        book_ids_test,\n",
    "        pd.Series([len(x) for x in contexts_test], name=\"ContextSize\"),\n",
    "        (ratings_test >= 7).apply(lambda x: \"Relevant\" if x else \"Not Relevant\").rename(\"Relevance\"),\n",
    "        ratings_test,\n",
    "        Y_test,\n",
    "        pd.Series(results, name='score').apply(json.loads).apply(lambda x: x['score']),\n",
    "        book_ids_test.apply(lambda x: isbn_to_avg_rating[x] / 10).rename(\"PredictionFromAverage\"),\n",
    "    ],\n",
    "    axis=1\n",
    ")\n",
    "results_df[\"Relevance\"] = pd.Categorical(results_df[\"Relevance\"], [\"Relevant\", \"Not Relevant\"])\n",
    "results_df.head()"
   ]
  },
  {
   "cell_type": "markdown",
   "metadata": {
    "tags": []
   },
   "source": [
    "<a id=\"Baselines\"></a>\n",
    "### Baselines\n",
    "For both baselines we ignore the context books and only look at the book we are rating.\n",
    "1. Book Average (Baseline B01)\n",
    "    * When predicting the rating of book A we will assign it the average rating of book A from the training subset.\n",
    "    * This means that it uses the target book id but not the context book ids when predicting.\n",
    "2. Dataset Average (Baseline B02)\n",
    "    * When predicting the rating of book A we will assign it the average rating of all books from the training subset.\n",
    "    * This means that it uses neither the target book id nor the context book ids and outputs the same value for all books, making it useless for ranking. However, it has better MAE than B01.\n",
    "3. Our model (Factorization Machine FM)\n",
    "    * Uses the FM model to predict ratings.\n",
    "    * Uses both the target and context book ids, meaning it can output different ratings to the same book depending on what you liked to read before."
   ]
  },
  {
   "cell_type": "markdown",
   "metadata": {
    "tags": []
   },
   "source": [
    "<a id=\"MAE\"></a>\n",
    "### Mean Absolute Error - MAE (Metric)"
   ]
  },
  {
   "cell_type": "code",
   "execution_count": 39,
   "metadata": {
    "tags": []
   },
   "outputs": [
    {
     "name": "stdout",
     "output_type": "stream",
     "text": [
      "MAE using the factorization machine model: \n",
      "\t0.38328\n",
      "MAE using B01: \n",
      "\t0.40568\n",
      "MAE using B02: \n",
      "\t0.39276\n"
     ]
    }
   ],
   "source": [
    "mae_fm = mean_absolute_error(results_df.score, results_df.TargetTest)\n",
    "mae_eb = mean_absolute_error(results_df.PredictionFromAverage, results_df.TargetTest)\n",
    "\n",
    "avg_rating_train = sum(target_train) / len(target_train)\n",
    "mae_ab = mean_absolute_error(\n",
    "    [avg_rating_train] * len(results_df.TargetTest), \n",
    "    results_df.TargetTest\n",
    ")\n",
    "\n",
    "print(f\"MAE using the factorization machine model: \\n\\t{mae_fm:.5f}\")\n",
    "print(f\"MAE using B01: \\n\\t{mae_eb:.5f}\")\n",
    "print(f\"MAE using B02: \\n\\t{mae_ab:.5f}\")"
   ]
  },
  {
   "cell_type": "markdown",
   "metadata": {},
   "source": [
    "<a id=\"ASD\"></a>\n",
    "### Average Sorting Distance - ASD (Metric)\n",
    "This metric sorts the test subset using the predicted ratings of a given model and computes the average distance of samples from their correct rank had they been sorted perfectly. The ASD from a perfect model would be 0. The maximum ASD theoretically is 1, but because each samples has a range of places where it could be, the worst possible ASD (sorted in the exact opposite order of the perfect one) is well below 1.\n",
    "\n",
    "With this metric we can see that both FM and B01 are better than B02 (random). Actually, FM and B01 have pretty much the same distance. In order to see who the winner is between FM and B01 we will need to look at the relevance of the Top N samples in the next section."
   ]
  },
  {
   "cell_type": "code",
   "execution_count": 40,
   "metadata": {
    "tags": []
   },
   "outputs": [],
   "source": [
    "def get_average_distance(results_df, rating_ideal_indices, this_rating_only=None):\n",
    "    distance = 0\n",
    "    dist_count = 0\n",
    "    for index, row in results_df.iterrows():\n",
    "        if this_rating_only is not None and row[\"BookRating\"] != this_rating_only:\n",
    "            continue\n",
    "        min_index, max_index = rating_ideal_indices[row[\"BookRating\"]]\n",
    "        dist_count += 1\n",
    "        if index < min_index:\n",
    "            distance += min_index - index\n",
    "        elif index > max_index:\n",
    "            distance += index - max_index\n",
    "        \n",
    "    # divide once because we sum over all samples\n",
    "    # divide the second time to normalize the result between 0 and 1\n",
    "    return distance / (dist_count * len(results_df))\n",
    "\n",
    "def evaluate_results(results_df, this_rating_only=None):\n",
    "    rating_counts = dict(results_df.BookRating.value_counts().sort_index().items())\n",
    "    rating_ideal_indices = {}\n",
    "    cumm_sum = 0\n",
    "    for rating in range(11):\n",
    "        rating_ideal_indices[rating] = (cumm_sum, cumm_sum + rating_counts[rating])\n",
    "        cumm_sum += rating_counts[rating]\n",
    "        \n",
    "    results_df = results_df.sort_values(by=\"TargetTest\", ascending=False, ignore_index=True)\n",
    "    largest_dist = get_average_distance(results_df, rating_ideal_indices, this_rating_only)\n",
    "    print(f\"Worst possible ASD:\\n\\t{largest_dist:.3f}\")\n",
    "        \n",
    "    results_df = results_df.sort_values(by=\"score\", ascending=True, ignore_index=True)\n",
    "    dist = get_average_distance(results_df, rating_ideal_indices, this_rating_only)\n",
    "    print(f\"ASD from FM:\\n\\t{dist:.3f} ({dist/largest_dist*100:.1f}% of worst possible ASD)\")\n",
    "    \n",
    "    results_df = results_df.sort_values(by=\"PredictionFromAverage\", ascending=True, ignore_index=True)\n",
    "    dist = get_average_distance(results_df, rating_ideal_indices, this_rating_only)\n",
    "    print(f\"ASD from B01:\\n\\t{dist:.3f} ({dist/largest_dist*100:.1f}% of worst possible ASD)\\n\")\n",
    "    \n",
    "    for i in range(3):\n",
    "        results_df = results_df.sample(frac=1, ignore_index=True)\n",
    "        dist = get_average_distance(results_df, rating_ideal_indices, this_rating_only)\n",
    "        print(f\"[{i+1:02d}] ASD from B02 (random order):\\n\\t{dist:.3f} ({dist/largest_dist*100:.1f}% of worst possible ASD)\")"
   ]
  },
  {
   "cell_type": "code",
   "execution_count": 41,
   "metadata": {
    "tags": []
   },
   "outputs": [
    {
     "name": "stdout",
     "output_type": "stream",
     "text": [
      "Worst possible ASD:\n",
      "\t0.385\n",
      "ASD from FM:\n",
      "\t0.206 (53.6% of worst possible ASD)\n",
      "ASD from B01:\n",
      "\t0.207 (53.7% of worst possible ASD)\n",
      "\n",
      "[01] ASD from B02 (random order):\n",
      "\t0.230 (59.7% of worst possible ASD)\n",
      "[02] ASD from B02 (random order):\n",
      "\t0.230 (59.8% of worst possible ASD)\n",
      "[03] ASD from B02 (random order):\n",
      "\t0.231 (60.0% of worst possible ASD)\n"
     ]
    }
   ],
   "source": [
    "evaluate_results(results_df)"
   ]
  },
  {
   "cell_type": "code",
   "execution_count": 42,
   "metadata": {
    "tags": []
   },
   "outputs": [
    {
     "name": "stdout",
     "output_type": "stream",
     "text": [
      "Worst possible ASD:\n",
      "\t0.798\n",
      "ASD from FM:\n",
      "\t0.306 (38.4% of worst possible ASD)\n",
      "ASD from B01:\n",
      "\t0.310 (38.9% of worst possible ASD)\n",
      "\n",
      "[01] ASD from B02 (random order):\n",
      "\t0.374 (46.9% of worst possible ASD)\n",
      "[02] ASD from B02 (random order):\n",
      "\t0.372 (46.7% of worst possible ASD)\n",
      "[03] ASD from B02 (random order):\n",
      "\t0.376 (47.2% of worst possible ASD)\n"
     ]
    }
   ],
   "source": [
    "evaluate_results(results_df, 10)"
   ]
  },
  {
   "cell_type": "markdown",
   "metadata": {
    "tags": []
   },
   "source": [
    "<a id=\"Pearson-Correlation-Coefficient\"></a>\n",
    "### Pearson Correlation Coefficient (Metric)\n",
    "Here we see that the factorization machine ouput correlates slightly better with the true rating than the B01 baseline model. This means that the contextual information is actually helping."
   ]
  },
  {
   "cell_type": "code",
   "execution_count": 43,
   "metadata": {
    "tags": []
   },
   "outputs": [
    {
     "name": "stdout",
     "output_type": "stream",
     "text": [
      "N_CONTEXT_BOOKS\t\tSUBSET_SIZE\tCORR_FM\t\tCORR_B01\n",
      "5 \t\t\t 18785 \t\t 0.142 \t\t 0.106\n",
      "6 \t\t\t 17090 \t\t 0.132 \t\t 0.112\n",
      "7 \t\t\t 15795 \t\t 0.138 \t\t 0.108\n",
      "8 \t\t\t 14798 \t\t 0.127 \t\t 0.114\n",
      "9 \t\t\t 13955 \t\t 0.113 \t\t 0.085\n",
      "10 \t\t\t 13281 \t\t 0.122 \t\t 0.108\n"
     ]
    }
   ],
   "source": [
    "print(\"N_CONTEXT_BOOKS\\t\\tSUBSET_SIZE\\tCORR_FM\\t\\tCORR_B01\")\n",
    "for context_size in range(5, 11):\n",
    "    results_df_context_size = results_df[results_df.ContextSize == context_size]\n",
    "    coeff_model = results_df_context_size.BookRating.corr(results_df_context_size.score)\n",
    "    coeff_using_per_book_average = results_df_context_size.BookRating.corr(results_df_context_size.PredictionFromAverage)\n",
    "    print(\n",
    "        context_size, \n",
    "        \"\\t\\t\\t\", \n",
    "        len(results_df_context_size), \n",
    "        \"\\t\\t\", \n",
    "        f\"{coeff_model:.3f}\",\n",
    "        \"\\t\\t\",\n",
    "        f\"{coeff_using_per_book_average:.3f}\",\n",
    "    )"
   ]
  },
  {
   "cell_type": "code",
   "execution_count": 74,
   "metadata": {
    "tags": []
   },
   "outputs": [
    {
     "data": {
      "image/png": "[encoded data removed]",
      "text/plain": [
       "<Figure size 640x480 with 1 Axes>"
      ]
     },
     "metadata": {},
     "output_type": "display_data"
    }
   ],
   "source": [
    "results_sample = results_df.sample(frac=0.05)\n",
    "sns.regplot(\n",
    "    data=results_sample, \n",
    "    x=\"BookRating\", \n",
    "    y=\"score\", \n",
    "    ci=99, \n",
    "    marker=\"x\", \n",
    "    color=\".3\", \n",
    "    line_kws=dict(color=\"r\"),\n",
    ")\n",
    "plt.show()"
   ]
  },
  {
   "cell_type": "code",
   "execution_count": 84,
   "metadata": {
    "tags": []
   },
   "outputs": [
    {
     "name": "stdout",
     "output_type": "stream",
     "text": [
      "We eliminate the ratings 1-4 from the plot because there weren't many training samples in this range.\n",
      "As we can see, the trend is to increase the score when the true rating is larger.\n",
      "Books with a true rating of 10 reach higher than every other rating.\n"
     ]
    },
    {
     "data": {
      "image/png": "[encoded data removed]",
      "text/plain": [
       "<Figure size 500x500 with 1 Axes>"
      ]
     },
     "metadata": {},
     "output_type": "display_data"
    }
   ],
   "source": [
    "print(\"We eliminate the ratings 1-4 from the plot because there weren't many training samples in this range.\")\n",
    "print(\"As we can see, the trend is to increase the score when the true rating is larger.\")\n",
    "print(\"Books with a true rating of 10 reach higher than every other rating.\")\n",
    "g = sns.catplot(\n",
    "    data=results_sample[(results_sample.BookRating == 0) | (results_sample.BookRating >= 5)], \n",
    "    x=\"BookRating\", \n",
    "    y=\"score\",\n",
    "    kind=\"boxen\",\n",
    ")"
   ]
  },
  {
   "cell_type": "markdown",
   "metadata": {
    "tags": []
   },
   "source": [
    "<a id=\"Top-N-Relevance\"></a>\n",
    "### Top N Relevance\n",
    "Here we can see that in the top 25 and top 100 samples (sorted using each model's prediction):\n",
    "1. We have more relevant samples (with true ratings >= 7) using the factorization machine model. In top 25 we have 68% relevant samples vs. 60% with B01. In top 100 we have 75% relevant samples vs. 59% with B01.\n",
    "2. The percentage of terrible recommendations (with true rating of 0) decreases from 40% using B01 to 10% using FM for top 25, and from 35% to 18% for top 100.\n",
    "3. The percentage of excellent recommendation (with true rating of 10) increases from 24% using B01 to 43% using FM for top 25, and from 25% to 44% for top 100.\n",
    "\n",
    "These facts mean that the FM performs better than the baseline model B01 by recommending a higher number of relevant books, and the irrelevant books have a larger rating, even if they are still not relevant."
   ]
  },
  {
   "cell_type": "code",
   "execution_count": 45,
   "metadata": {
    "tags": []
   },
   "outputs": [],
   "source": [
    "results_df_context_size = results_df[results_df.ContextSize == 5]"
   ]
  },
  {
   "cell_type": "code",
   "execution_count": 46,
   "metadata": {
    "tags": []
   },
   "outputs": [],
   "source": [
    "from matplotlib.gridspec import SubplotSpec\n",
    "from typing import Any\n",
    "\n",
    "def create_subtitle(fig: plt.Figure, grid: SubplotSpec, title: str):\n",
    "    \"\"\"\n",
    "    Sign sets of subplots with title. See https://stackoverflow.com/a/67165729.\n",
    "    \"\"\"\n",
    "    row = fig.add_subplot(grid)\n",
    "    row.set_title(f\"{title}\\n\", fontweight=\"semibold\")\n",
    "    row.set_frame_on(False)\n",
    "    row.axis(\"off\")\n",
    "    \n",
    "def get_data_and_title(size: int, sortby: str) -> Tuple[pd.DataFrame, str]:\n",
    "    data = results_df_context_size.nlargest(size, sortby)\n",
    "    title = f\"Top {size}\"\n",
    "    if size >= len(results_df_context_size):\n",
    "        title = \"Entire test subset\"\n",
    "    return data, title\n",
    "\n",
    "def prob_histplot(data: pd.DataFrame, x: str, title: str, axis: Any, bins: int):\n",
    "    plot = sns.histplot(\n",
    "        data=data, \n",
    "        x=x, \n",
    "        stat=\"probability\", \n",
    "        ax=axis,\n",
    "        bins=bins,\n",
    "    )\n",
    "    plot.set(title=title)\n",
    "    plot.set(ylabel=\"Frequency\")\n",
    "    return plot\n",
    "    \n",
    "sizes = [25, 100, 1000, 20000]\n",
    "ncols = len(sizes)\n",
    "\n",
    "sort_criteria = [\"score\", \"PredictionFromAverage\"]    \n",
    "nrows = len(sort_criteria)"
   ]
  },
  {
   "cell_type": "code",
   "execution_count": 54,
   "metadata": {
    "tags": []
   },
   "outputs": [
    {
     "data": {
      "image/png": "[encoded data removed]",
      "text/plain": [
       "<Figure size 800x600 with 10 Axes>"
      ]
     },
     "metadata": {},
     "output_type": "display_data"
    }
   ],
   "source": [
    "fig, axs = plt.subplots(ncols=ncols, nrows=nrows, sharey=True, figsize=(8,6))\n",
    "fig.tight_layout(h_pad=8.0, w_pad=0, rect=(0.03, 0.05, 0.97, 0.9))\n",
    "\n",
    "row_titles = [\n",
    "    \"Ratings distribution of Top N samples in the test set\\n (sorted by our model)\\n\",\n",
    "    \"Ratings distribution of Top N samples in the test set\\n (sorted by book average rating)\\n\",\n",
    "]\n",
    "\n",
    "for ax in axs.flatten():\n",
    "    ax.set_ylim(0, 1.0)\n",
    "\n",
    "grid = plt.GridSpec(nrows, ncols)\n",
    "for row in range(nrows):\n",
    "    for col in range(ncols):\n",
    "        data, title = get_data_and_title(size=sizes[col], sortby=sort_criteria[row])\n",
    "        prob_histplot(data=data, x=\"BookRating\", title=title, axis=axs[row, col], bins=11)\n",
    "    create_subtitle(fig, grid[row, ::], row_titles[row])\n",
    "    \n",
    "ratings_figure_fpath = \"./ratings_distribution.png\"\n",
    "plt.savefig(ratings_figure_fpath)"
   ]
  },
  {
   "cell_type": "code",
   "execution_count": 57,
   "metadata": {
    "tags": []
   },
   "outputs": [
    {
     "data": {
      "image/png": "[encoded data removed]",
      "text/plain": [
       "<Figure size 800x600 with 10 Axes>"
      ]
     },
     "metadata": {},
     "output_type": "display_data"
    }
   ],
   "source": [
    "fig, axs = plt.subplots(ncols=ncols, nrows=nrows, sharey=True, figsize=(8,6))\n",
    "fig.tight_layout(h_pad=6.0, w_pad=0, rect=(0.03, 0.03, 0.97, 0.9))\n",
    "\n",
    "row_titles = [\n",
    "    \"Relevance distribution of Top N samples in the test set\\n (sorted by our model)\\n\",\n",
    "    \"Relevance distribution of Top N samples in the test set\\n (sorted by book average rating)\\n\",\n",
    "]\n",
    "\n",
    "for ax in axs.flatten():\n",
    "    ax.set_ylim(0, 1.0)\n",
    "\n",
    "grid = plt.GridSpec(nrows, ncols)\n",
    "for row in range(nrows):\n",
    "    for col in range(ncols):\n",
    "        data, title = get_data_and_title(size=sizes[col], sortby=sort_criteria[row])\n",
    "        plot = prob_histplot(data=data, x=\"Relevance\", title=title, axis=axs[row, col], bins=2)\n",
    "        plot.set(xlabel=None)\n",
    "        plot.tick_params(labelsize=7.5)\n",
    "    create_subtitle(fig, grid[row, ::], row_titles[row])\n",
    "    \n",
    "relevance_figure_fpath = \"./relevance_distribution.png\"\n",
    "plt.savefig(relevance_figure_fpath)"
   ]
  }
 ],
 "metadata": {
  "availableInstances": [
   {
    "_defaultOrder": 0,
    "_isFastLaunch": true,
    "category": "General purpose",
    "gpuNum": 0,
    "hideHardwareSpecs": false,
    "memoryGiB": 4,
    "name": "ml.t3.medium",
    "vcpuNum": 2
   },
   {
    "_defaultOrder": 1,
    "_isFastLaunch": false,
    "category": "General purpose",
    "gpuNum": 0,
    "hideHardwareSpecs": false,
    "memoryGiB": 8,
    "name": "ml.t3.large",
    "vcpuNum": 2
   },
   {
    "_defaultOrder": 2,
    "_isFastLaunch": false,
    "category": "General purpose",
    "gpuNum": 0,
    "hideHardwareSpecs": false,
    "memoryGiB": 16,
    "name": "ml.t3.xlarge",
    "vcpuNum": 4
   },
   {
    "_defaultOrder": 3,
    "_isFastLaunch": false,
    "category": "General purpose",
    "gpuNum": 0,
    "hideHardwareSpecs": false,
    "memoryGiB": 32,
    "name": "ml.t3.2xlarge",
    "vcpuNum": 8
   },
   {
    "_defaultOrder": 4,
    "_isFastLaunch": true,
    "category": "General purpose",
    "gpuNum": 0,
    "hideHardwareSpecs": false,
    "memoryGiB": 8,
    "name": "ml.m5.large",
    "vcpuNum": 2
   },
   {
    "_defaultOrder": 5,
    "_isFastLaunch": false,
    "category": "General purpose",
    "gpuNum": 0,
    "hideHardwareSpecs": false,
    "memoryGiB": 16,
    "name": "ml.m5.xlarge",
    "vcpuNum": 4
   },
   {
    "_defaultOrder": 6,
    "_isFastLaunch": false,
    "category": "General purpose",
    "gpuNum": 0,
    "hideHardwareSpecs": false,
    "memoryGiB": 32,
    "name": "ml.m5.2xlarge",
    "vcpuNum": 8
   },
   {
    "_defaultOrder": 7,
    "_isFastLaunch": false,
    "category": "General purpose",
    "gpuNum": 0,
    "hideHardwareSpecs": false,
    "memoryGiB": 64,
    "name": "ml.m5.4xlarge",
    "vcpuNum": 16
   },
   {
    "_defaultOrder": 8,
    "_isFastLaunch": false,
    "category": "General purpose",
    "gpuNum": 0,
    "hideHardwareSpecs": false,
    "memoryGiB": 128,
    "name": "ml.m5.8xlarge",
    "vcpuNum": 32
   },
   {
    "_defaultOrder": 9,
    "_isFastLaunch": false,
    "category": "General purpose",
    "gpuNum": 0,
    "hideHardwareSpecs": false,
    "memoryGiB": 192,
    "name": "ml.m5.12xlarge",
    "vcpuNum": 48
   },
   {
    "_defaultOrder": 10,
    "_isFastLaunch": false,
    "category": "General purpose",
    "gpuNum": 0,
    "hideHardwareSpecs": false,
    "memoryGiB": 256,
    "name": "ml.m5.16xlarge",
    "vcpuNum": 64
   },
   {
    "_defaultOrder": 11,
    "_isFastLaunch": false,
    "category": "General purpose",
    "gpuNum": 0,
    "hideHardwareSpecs": false,
    "memoryGiB": 384,
    "name": "ml.m5.24xlarge",
    "vcpuNum": 96
   },
   {
    "_defaultOrder": 12,
    "_isFastLaunch": false,
    "category": "General purpose",
    "gpuNum": 0,
    "hideHardwareSpecs": false,
    "memoryGiB": 8,
    "name": "ml.m5d.large",
    "vcpuNum": 2
   },
   {
    "_defaultOrder": 13,
    "_isFastLaunch": false,
    "category": "General purpose",
    "gpuNum": 0,
    "hideHardwareSpecs": false,
    "memoryGiB": 16,
    "name": "ml.m5d.xlarge",
    "vcpuNum": 4
   },
   {
    "_defaultOrder": 14,
    "_isFastLaunch": false,
    "category": "General purpose",
    "gpuNum": 0,
    "hideHardwareSpecs": false,
    "memoryGiB": 32,
    "name": "ml.m5d.2xlarge",
    "vcpuNum": 8
   },
   {
    "_defaultOrder": 15,
    "_isFastLaunch": false,
    "category": "General purpose",
    "gpuNum": 0,
    "hideHardwareSpecs": false,
    "memoryGiB": 64,
    "name": "ml.m5d.4xlarge",
    "vcpuNum": 16
   },
   {
    "_defaultOrder": 16,
    "_isFastLaunch": false,
    "category": "General purpose",
    "gpuNum": 0,
    "hideHardwareSpecs": false,
    "memoryGiB": 128,
    "name": "ml.m5d.8xlarge",
    "vcpuNum": 32
   },
   {
    "_defaultOrder": 17,
    "_isFastLaunch": false,
    "category": "General purpose",
    "gpuNum": 0,
    "hideHardwareSpecs": false,
    "memoryGiB": 192,
    "name": "ml.m5d.12xlarge",
    "vcpuNum": 48
   },
   {
    "_defaultOrder": 18,
    "_isFastLaunch": false,
    "category": "General purpose",
    "gpuNum": 0,
    "hideHardwareSpecs": false,
    "memoryGiB": 256,
    "name": "ml.m5d.16xlarge",
    "vcpuNum": 64
   },
   {
    "_defaultOrder": 19,
    "_isFastLaunch": false,
    "category": "General purpose",
    "gpuNum": 0,
    "hideHardwareSpecs": false,
    "memoryGiB": 384,
    "name": "ml.m5d.24xlarge",
    "vcpuNum": 96
   },
   {
    "_defaultOrder": 20,
    "_isFastLaunch": false,
    "category": "General purpose",
    "gpuNum": 0,
    "hideHardwareSpecs": true,
    "memoryGiB": 0,
    "name": "ml.geospatial.interactive",
    "supportedImageNames": [
     "sagemaker-geospatial-v1-0"
    ],
    "vcpuNum": 0
   },
   {
    "_defaultOrder": 21,
    "_isFastLaunch": true,
    "category": "Compute optimized",
    "gpuNum": 0,
    "hideHardwareSpecs": false,
    "memoryGiB": 4,
    "name": "ml.c5.large",
    "vcpuNum": 2
   },
   {
    "_defaultOrder": 22,
    "_isFastLaunch": false,
    "category": "Compute optimized",
    "gpuNum": 0,
    "hideHardwareSpecs": false,
    "memoryGiB": 8,
    "name": "ml.c5.xlarge",
    "vcpuNum": 4
   },
   {
    "_defaultOrder": 23,
    "_isFastLaunch": false,
    "category": "Compute optimized",
    "gpuNum": 0,
    "hideHardwareSpecs": false,
    "memoryGiB": 16,
    "name": "ml.c5.2xlarge",
    "vcpuNum": 8
   },
   {
    "_defaultOrder": 24,
    "_isFastLaunch": false,
    "category": "Compute optimized",
    "gpuNum": 0,
    "hideHardwareSpecs": false,
    "memoryGiB": 32,
    "name": "ml.c5.4xlarge",
    "vcpuNum": 16
   },
   {
    "_defaultOrder": 25,
    "_isFastLaunch": false,
    "category": "Compute optimized",
    "gpuNum": 0,
    "hideHardwareSpecs": false,
    "memoryGiB": 72,
    "name": "ml.c5.9xlarge",
    "vcpuNum": 36
   },
   {
    "_defaultOrder": 26,
    "_isFastLaunch": false,
    "category": "Compute optimized",
    "gpuNum": 0,
    "hideHardwareSpecs": false,
    "memoryGiB": 96,
    "name": "ml.c5.12xlarge",
    "vcpuNum": 48
   },
   {
    "_defaultOrder": 27,
    "_isFastLaunch": false,
    "category": "Compute optimized",
    "gpuNum": 0,
    "hideHardwareSpecs": false,
    "memoryGiB": 144,
    "name": "ml.c5.18xlarge",
    "vcpuNum": 72
   },
   {
    "_defaultOrder": 28,
    "_isFastLaunch": false,
    "category": "Compute optimized",
    "gpuNum": 0,
    "hideHardwareSpecs": false,
    "memoryGiB": 192,
    "name": "ml.c5.24xlarge",
    "vcpuNum": 96
   },
   {
    "_defaultOrder": 29,
    "_isFastLaunch": true,
    "category": "Accelerated computing",
    "gpuNum": 1,
    "hideHardwareSpecs": false,
    "memoryGiB": 16,
    "name": "ml.g4dn.xlarge",
    "vcpuNum": 4
   },
   {
    "_defaultOrder": 30,
    "_isFastLaunch": false,
    "category": "Accelerated computing",
    "gpuNum": 1,
    "hideHardwareSpecs": false,
    "memoryGiB": 32,
    "name": "ml.g4dn.2xlarge",
    "vcpuNum": 8
   },
   {
    "_defaultOrder": 31,
    "_isFastLaunch": false,
    "category": "Accelerated computing",
    "gpuNum": 1,
    "hideHardwareSpecs": false,
    "memoryGiB": 64,
    "name": "ml.g4dn.4xlarge",
    "vcpuNum": 16
   },
   {
    "_defaultOrder": 32,
    "_isFastLaunch": false,
    "category": "Accelerated computing",
    "gpuNum": 1,
    "hideHardwareSpecs": false,
    "memoryGiB": 128,
    "name": "ml.g4dn.8xlarge",
    "vcpuNum": 32
   },
   {
    "_defaultOrder": 33,
    "_isFastLaunch": false,
    "category": "Accelerated computing",
    "gpuNum": 4,
    "hideHardwareSpecs": false,
    "memoryGiB": 192,
    "name": "ml.g4dn.12xlarge",
    "vcpuNum": 48
   },
   {
    "_defaultOrder": 34,
    "_isFastLaunch": false,
    "category": "Accelerated computing",
    "gpuNum": 1,
    "hideHardwareSpecs": false,
    "memoryGiB": 256,
    "name": "ml.g4dn.16xlarge",
    "vcpuNum": 64
   },
   {
    "_defaultOrder": 35,
    "_isFastLaunch": false,
    "category": "Accelerated computing",
    "gpuNum": 1,
    "hideHardwareSpecs": false,
    "memoryGiB": 61,
    "name": "ml.p3.2xlarge",
    "vcpuNum": 8
   },
   {
    "_defaultOrder": 36,
    "_isFastLaunch": false,
    "category": "Accelerated computing",
    "gpuNum": 4,
    "hideHardwareSpecs": false,
    "memoryGiB": 244,
    "name": "ml.p3.8xlarge",
    "vcpuNum": 32
   },
   {
    "_defaultOrder": 37,
    "_isFastLaunch": false,
    "category": "Accelerated computing",
    "gpuNum": 8,
    "hideHardwareSpecs": false,
    "memoryGiB": 488,
    "name": "ml.p3.16xlarge",
    "vcpuNum": 64
   },
   {
    "_defaultOrder": 38,
    "_isFastLaunch": false,
    "category": "Accelerated computing",
    "gpuNum": 8,
    "hideHardwareSpecs": false,
    "memoryGiB": 768,
    "name": "ml.p3dn.24xlarge",
    "vcpuNum": 96
   },
   {
    "_defaultOrder": 39,
    "_isFastLaunch": false,
    "category": "Memory Optimized",
    "gpuNum": 0,
    "hideHardwareSpecs": false,
    "memoryGiB": 16,
    "name": "ml.r5.large",
    "vcpuNum": 2
   },
   {
    "_defaultOrder": 40,
    "_isFastLaunch": false,
    "category": "Memory Optimized",
    "gpuNum": 0,
    "hideHardwareSpecs": false,
    "memoryGiB": 32,
    "name": "ml.r5.xlarge",
    "vcpuNum": 4
   },
   {
    "_defaultOrder": 41,
    "_isFastLaunch": false,
    "category": "Memory Optimized",
    "gpuNum": 0,
    "hideHardwareSpecs": false,
    "memoryGiB": 64,
    "name": "ml.r5.2xlarge",
    "vcpuNum": 8
   },
   {
    "_defaultOrder": 42,
    "_isFastLaunch": false,
    "category": "Memory Optimized",
    "gpuNum": 0,
    "hideHardwareSpecs": false,
    "memoryGiB": 128,
    "name": "ml.r5.4xlarge",
    "vcpuNum": 16
   },
   {
    "_defaultOrder": 43,
    "_isFastLaunch": false,
    "category": "Memory Optimized",
    "gpuNum": 0,
    "hideHardwareSpecs": false,
    "memoryGiB": 256,
    "name": "ml.r5.8xlarge",
    "vcpuNum": 32
   },
   {
    "_defaultOrder": 44,
    "_isFastLaunch": false,
    "category": "Memory Optimized",
    "gpuNum": 0,
    "hideHardwareSpecs": false,
    "memoryGiB": 384,
    "name": "ml.r5.12xlarge",
    "vcpuNum": 48
   },
   {
    "_defaultOrder": 45,
    "_isFastLaunch": false,
    "category": "Memory Optimized",
    "gpuNum": 0,
    "hideHardwareSpecs": false,
    "memoryGiB": 512,
    "name": "ml.r5.16xlarge",
    "vcpuNum": 64
   },
   {
    "_defaultOrder": 46,
    "_isFastLaunch": false,
    "category": "Memory Optimized",
    "gpuNum": 0,
    "hideHardwareSpecs": false,
    "memoryGiB": 768,
    "name": "ml.r5.24xlarge",
    "vcpuNum": 96
   },
   {
    "_defaultOrder": 47,
    "_isFastLaunch": false,
    "category": "Accelerated computing",
    "gpuNum": 1,
    "hideHardwareSpecs": false,
    "memoryGiB": 16,
    "name": "ml.g5.xlarge",
    "vcpuNum": 4
   },
   {
    "_defaultOrder": 48,
    "_isFastLaunch": false,
    "category": "Accelerated computing",
    "gpuNum": 1,
    "hideHardwareSpecs": false,
    "memoryGiB": 32,
    "name": "ml.g5.2xlarge",
    "vcpuNum": 8
   },
   {
    "_defaultOrder": 49,
    "_isFastLaunch": false,
    "category": "Accelerated computing",
    "gpuNum": 1,
    "hideHardwareSpecs": false,
    "memoryGiB": 64,
    "name": "ml.g5.4xlarge",
    "vcpuNum": 16
   },
   {
    "_defaultOrder": 50,
    "_isFastLaunch": false,
    "category": "Accelerated computing",
    "gpuNum": 1,
    "hideHardwareSpecs": false,
    "memoryGiB": 128,
    "name": "ml.g5.8xlarge",
    "vcpuNum": 32
   },
   {
    "_defaultOrder": 51,
    "_isFastLaunch": false,
    "category": "Accelerated computing",
    "gpuNum": 1,
    "hideHardwareSpecs": false,
    "memoryGiB": 256,
    "name": "ml.g5.16xlarge",
    "vcpuNum": 64
   },
   {
    "_defaultOrder": 52,
    "_isFastLaunch": false,
    "category": "Accelerated computing",
    "gpuNum": 4,
    "hideHardwareSpecs": false,
    "memoryGiB": 192,
    "name": "ml.g5.12xlarge",
    "vcpuNum": 48
   },
   {
    "_defaultOrder": 53,
    "_isFastLaunch": false,
    "category": "Accelerated computing",
    "gpuNum": 4,
    "hideHardwareSpecs": false,
    "memoryGiB": 384,
    "name": "ml.g5.24xlarge",
    "vcpuNum": 96
   },
   {
    "_defaultOrder": 54,
    "_isFastLaunch": false,
    "category": "Accelerated computing",
    "gpuNum": 8,
    "hideHardwareSpecs": false,
    "memoryGiB": 768,
    "name": "ml.g5.48xlarge",
    "vcpuNum": 192
   },
   {
    "_defaultOrder": 55,
    "_isFastLaunch": false,
    "category": "Accelerated computing",
    "gpuNum": 8,
    "hideHardwareSpecs": false,
    "memoryGiB": 1152,
    "name": "ml.p4d.24xlarge",
    "vcpuNum": 96
   },
   {
    "_defaultOrder": 56,
    "_isFastLaunch": false,
    "category": "Accelerated computing",
    "gpuNum": 8,
    "hideHardwareSpecs": false,
    "memoryGiB": 1152,
    "name": "ml.p4de.24xlarge",
    "vcpuNum": 96
   },
   {
    "_defaultOrder": 57,
    "_isFastLaunch": false,
    "category": "Accelerated computing",
    "gpuNum": 0,
    "hideHardwareSpecs": false,
    "memoryGiB": 32,
    "name": "ml.trn1.2xlarge",
    "vcpuNum": 8
   },
   {
    "_defaultOrder": 58,
    "_isFastLaunch": false,
    "category": "Accelerated computing",
    "gpuNum": 0,
    "hideHardwareSpecs": false,
    "memoryGiB": 512,
    "name": "ml.trn1.32xlarge",
    "vcpuNum": 128
   },
   {
    "_defaultOrder": 59,
    "_isFastLaunch": false,
    "category": "Accelerated computing",
    "gpuNum": 0,
    "hideHardwareSpecs": false,
    "memoryGiB": 512,
    "name": "ml.trn1n.32xlarge",
    "vcpuNum": 128
   }
  ],
  "instance_type": "ml.m5.large",
  "kernelspec": {
   "display_name": "Python 3 (Data Science 3.0)",
   "language": "python",
   "name": "python3__SAGEMAKER_INTERNAL__arn:aws:sagemaker:eu-central-1:936697816551:image/sagemaker-data-science-310-v1"
  },
  "language_info": {
   "codemirror_mode": {
    "name": "ipython",
    "version": 3
   },
   "file_extension": ".py",
   "mimetype": "text/x-python",
   "name": "python",
   "nbconvert_exporter": "python",
   "pygments_lexer": "ipython3",
   "version": "3.10.6"
  },
  "notice": "Copyright 2018 Amazon.com, Inc. or its affiliates. All Rights Reserved.  Licensed under the Apache License, Version 2.0 (the \"License\"). You may not use this file except in compliance with the License. A copy of the License is located at http://aws.amazon.com/apache2.0/ or in the \"license\" file accompanying this file. This file is distributed on an \"AS IS\" BASIS, WITHOUT WARRANTIES OR CONDITIONS OF ANY KIND, either express or implied. See the License for the specific language governing permissions and limitations under the License."
 },
 "nbformat": 4,
 "nbformat_minor": 4
}
